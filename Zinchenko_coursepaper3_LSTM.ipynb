{
 "cells": [
  {
   "cell_type": "code",
   "execution_count": 1,
   "metadata": {},
   "outputs": [],
   "source": [
    "import numpy as np\n",
    "import matplotlib.pyplot as plt\n",
    "import pandas as pd\n",
    "import math\n",
    "import plotly\n",
    "import random\n",
    "from keras.models import Sequential\n",
    "from keras.layers import Dense, LSTM\n",
    "from sklearn.preprocessing import MinMaxScaler\n",
    "from sklearn.metrics import mean_squared_error\n",
    "\n",
    "np.random.seed(7)"
   ]
  },
  {
   "cell_type": "code",
   "execution_count": 2,
   "metadata": {
    "scrolled": false
   },
   "outputs": [
    {
     "data": {
      "text/html": [
       "<div>\n",
       "<style scoped>\n",
       "    .dataframe tbody tr th:only-of-type {\n",
       "        vertical-align: middle;\n",
       "    }\n",
       "\n",
       "    .dataframe tbody tr th {\n",
       "        vertical-align: top;\n",
       "    }\n",
       "\n",
       "    .dataframe thead th {\n",
       "        text-align: right;\n",
       "    }\n",
       "</style>\n",
       "<table border=\"1\" class=\"dataframe\">\n",
       "  <thead>\n",
       "    <tr style=\"text-align: right;\">\n",
       "      <th></th>\n",
       "      <th>date</th>\n",
       "      <th>Income</th>\n",
       "      <th>Profit</th>\n",
       "    </tr>\n",
       "  </thead>\n",
       "  <tbody>\n",
       "    <tr>\n",
       "      <th>0</th>\n",
       "      <td>2011-03-01</td>\n",
       "      <td>78670000</td>\n",
       "      <td>34707000</td>\n",
       "    </tr>\n",
       "    <tr>\n",
       "      <th>1</th>\n",
       "      <td>2011-06-01</td>\n",
       "      <td>78354000</td>\n",
       "      <td>31979000</td>\n",
       "    </tr>\n",
       "    <tr>\n",
       "      <th>2</th>\n",
       "      <td>2011-09-01</td>\n",
       "      <td>82971000</td>\n",
       "      <td>-15351000</td>\n",
       "    </tr>\n",
       "    <tr>\n",
       "      <th>3</th>\n",
       "      <td>2011-12-01</td>\n",
       "      <td>74072000</td>\n",
       "      <td>8054000</td>\n",
       "    </tr>\n",
       "    <tr>\n",
       "      <th>4</th>\n",
       "      <td>2012-03-01</td>\n",
       "      <td>80102000</td>\n",
       "      <td>13950000</td>\n",
       "    </tr>\n",
       "    <tr>\n",
       "      <th>5</th>\n",
       "      <td>2012-06-01</td>\n",
       "      <td>73013000</td>\n",
       "      <td>1665000</td>\n",
       "    </tr>\n",
       "    <tr>\n",
       "      <th>6</th>\n",
       "      <td>2012-09-01</td>\n",
       "      <td>74449000</td>\n",
       "      <td>3900000</td>\n",
       "    </tr>\n",
       "    <tr>\n",
       "      <th>7</th>\n",
       "      <td>2012-12-01</td>\n",
       "      <td>78815000</td>\n",
       "      <td>-3246000</td>\n",
       "    </tr>\n",
       "  </tbody>\n",
       "</table>\n",
       "</div>"
      ],
      "text/plain": [
       "        date    Income    Profit\n",
       "0 2011-03-01  78670000  34707000\n",
       "1 2011-06-01  78354000  31979000\n",
       "2 2011-09-01  82971000 -15351000\n",
       "3 2011-12-01  74072000   8054000\n",
       "4 2012-03-01  80102000  13950000\n",
       "5 2012-06-01  73013000   1665000\n",
       "6 2012-09-01  74449000   3900000\n",
       "7 2012-12-01  78815000  -3246000"
      ]
     },
     "execution_count": 2,
     "metadata": {},
     "output_type": "execute_result"
    }
   ],
   "source": [
    "#чтение csv-файла\n",
    "data = pd.read_csv('Raiff_income_profit.csv', sep=',')\n",
    "data.date =  pd.to_datetime(data.date, format='%d.%m.%Y')\n",
    "data.head(5)"
   ]
  },
  {
   "cell_type": "code",
   "execution_count": 3,
   "metadata": {},
   "outputs": [
    {
     "data": {
      "text/plain": [
       "date      datetime64[ns]\n",
       "Income             int64\n",
       "Profit             int64\n",
       "dtype: object"
      ]
     },
     "execution_count": 3,
     "metadata": {},
     "output_type": "execute_result"
    }
   ],
   "source": [
    "data.dtypes"
   ]
  },
  {
   "cell_type": "code",
   "execution_count": 13,
   "metadata": {},
   "outputs": [
    {
     "data": {
      "text/html": [
       "        <script type=\"text/javascript\">\n",
       "        window.PlotlyConfig = {MathJaxConfig: 'local'};\n",
       "        if (window.MathJax) {MathJax.Hub.Config({SVG: {font: \"STIX-Web\"}});}\n",
       "        if (typeof require !== 'undefined') {\n",
       "        require.undef(\"plotly\");\n",
       "        requirejs.config({\n",
       "            paths: {\n",
       "                'plotly': ['https://cdn.plot.ly/plotly-latest.min']\n",
       "            }\n",
       "        });\n",
       "        require(['plotly'], function(Plotly) {\n",
       "            window._Plotly = Plotly;\n",
       "        });\n",
       "        }\n",
       "        </script>\n",
       "        "
      ]
     },
     "metadata": {},
     "output_type": "display_data"
    },
    {
     "data": {
      "application/vnd.plotly.v1+json": {
       "config": {
        "linkText": "Export to plot.ly",
        "plotlyServerURL": "https://plot.ly",
        "showLink": false
       },
       "data": [
        {
         "line": {
          "color": "rgb(24,185,176)"
         },
         "mode": "lines",
         "type": "scattergl",
         "x": [
          "2011-03-01T00:00:00",
          "2011-06-01T00:00:00",
          "2011-09-01T00:00:00",
          "2011-12-01T00:00:00",
          "2012-03-01T00:00:00",
          "2012-06-01T00:00:00",
          "2012-09-01T00:00:00",
          "2012-12-01T00:00:00",
          "2013-03-01T00:00:00",
          "2013-06-01T00:00:00",
          "2013-09-01T00:00:00",
          "2013-12-01T00:00:00",
          "2014-03-01T00:00:00",
          "2014-06-01T00:00:00",
          "2014-09-01T00:00:00",
          "2014-12-01T00:00:00",
          "2015-03-01T00:00:00",
          "2015-06-01T00:00:00",
          "2015-09-01T00:00:00",
          "2015-12-01T00:00:00",
          "2016-03-01T00:00:00",
          "2016-06-01T00:00:00",
          "2016-09-01T00:00:00",
          "2016-12-01T00:00:00",
          "2017-03-01T00:00:00",
          "2017-06-01T00:00:00",
          "2017-09-01T00:00:00",
          "2017-12-01T00:00:00",
          "2018-03-01T00:00:00",
          "2018-06-01T00:00:00",
          "2018-09-01T00:00:00",
          "2018-12-01T00:00:00",
          "2019-03-01T00:00:00",
          "2019-06-01T00:00:00",
          "2019-09-01T00:00:00",
          "2019-12-01T00:00:00",
          "2020-03-01T00:00:00",
          "2020-06-01T00:00:00",
          "2020-09-01T00:00:00"
         ],
         "y": [
          78670000,
          78354000,
          82971000,
          74072000,
          80102000,
          73013000,
          74449000,
          78815000,
          100737926,
          88940376,
          97391949,
          130200749,
          130512165,
          139460964,
          136448046,
          178397825,
          190384939,
          165088579,
          189119227,
          245760231,
          172674709,
          190865138,
          216598381,
          234915772,
          210571874,
          225924827,
          246313242,
          270110057,
          254275543,
          290173777,
          343950204,
          349893476,
          300622000,
          342149000,
          390705000,
          481485000,
          498443000,
          463274000,
          586181000
         ]
        },
        {
         "line": {
          "color": "rgb(100,89,213)"
         },
         "mode": "lines",
         "type": "scattergl",
         "x": [
          "2011-03-01T00:00:00",
          "2011-06-01T00:00:00",
          "2011-09-01T00:00:00",
          "2011-12-01T00:00:00",
          "2012-03-01T00:00:00",
          "2012-06-01T00:00:00",
          "2012-09-01T00:00:00",
          "2012-12-01T00:00:00",
          "2013-03-01T00:00:00",
          "2013-06-01T00:00:00",
          "2013-09-01T00:00:00",
          "2013-12-01T00:00:00",
          "2014-03-01T00:00:00",
          "2014-06-01T00:00:00",
          "2014-09-01T00:00:00",
          "2014-12-01T00:00:00",
          "2015-03-01T00:00:00",
          "2015-06-01T00:00:00",
          "2015-09-01T00:00:00",
          "2015-12-01T00:00:00",
          "2016-03-01T00:00:00",
          "2016-06-01T00:00:00",
          "2016-09-01T00:00:00",
          "2016-12-01T00:00:00",
          "2017-03-01T00:00:00",
          "2017-06-01T00:00:00",
          "2017-09-01T00:00:00",
          "2017-12-01T00:00:00",
          "2018-03-01T00:00:00",
          "2018-06-01T00:00:00",
          "2018-09-01T00:00:00",
          "2018-12-01T00:00:00",
          "2019-03-01T00:00:00",
          "2019-06-01T00:00:00",
          "2019-09-01T00:00:00",
          "2019-12-01T00:00:00",
          "2020-03-01T00:00:00",
          "2020-06-01T00:00:00",
          "2020-09-01T00:00:00"
         ],
         "y": [
          34707000,
          31979000,
          -15351000,
          8054000,
          13950000,
          1665000,
          3900000,
          -3246000,
          13009554,
          1335992,
          11250223,
          6034231,
          17936538,
          28308596,
          27358517,
          25417349,
          24282266,
          55975973,
          37147579,
          71049428,
          11139622,
          22870670,
          57245509,
          74110199,
          45638151,
          59313468,
          69760234,
          78901147,
          62735692,
          73636518,
          108698786,
          112795004,
          93160000,
          115533000,
          151602000,
          180701000,
          247329000,
          174743000,
          240711000
         ]
        }
       ],
       "layout": {
        "template": {
         "data": {
          "bar": [
           {
            "error_x": {
             "color": "#2a3f5f"
            },
            "error_y": {
             "color": "#2a3f5f"
            },
            "marker": {
             "line": {
              "color": "#E5ECF6",
              "width": 0.5
             }
            },
            "type": "bar"
           }
          ],
          "barpolar": [
           {
            "marker": {
             "line": {
              "color": "#E5ECF6",
              "width": 0.5
             }
            },
            "type": "barpolar"
           }
          ],
          "carpet": [
           {
            "aaxis": {
             "endlinecolor": "#2a3f5f",
             "gridcolor": "white",
             "linecolor": "white",
             "minorgridcolor": "white",
             "startlinecolor": "#2a3f5f"
            },
            "baxis": {
             "endlinecolor": "#2a3f5f",
             "gridcolor": "white",
             "linecolor": "white",
             "minorgridcolor": "white",
             "startlinecolor": "#2a3f5f"
            },
            "type": "carpet"
           }
          ],
          "choropleth": [
           {
            "colorbar": {
             "outlinewidth": 0,
             "ticks": ""
            },
            "type": "choropleth"
           }
          ],
          "contour": [
           {
            "colorbar": {
             "outlinewidth": 0,
             "ticks": ""
            },
            "colorscale": [
             [
              0,
              "#0d0887"
             ],
             [
              0.1111111111111111,
              "#46039f"
             ],
             [
              0.2222222222222222,
              "#7201a8"
             ],
             [
              0.3333333333333333,
              "#9c179e"
             ],
             [
              0.4444444444444444,
              "#bd3786"
             ],
             [
              0.5555555555555556,
              "#d8576b"
             ],
             [
              0.6666666666666666,
              "#ed7953"
             ],
             [
              0.7777777777777778,
              "#fb9f3a"
             ],
             [
              0.8888888888888888,
              "#fdca26"
             ],
             [
              1,
              "#f0f921"
             ]
            ],
            "type": "contour"
           }
          ],
          "contourcarpet": [
           {
            "colorbar": {
             "outlinewidth": 0,
             "ticks": ""
            },
            "type": "contourcarpet"
           }
          ],
          "heatmap": [
           {
            "colorbar": {
             "outlinewidth": 0,
             "ticks": ""
            },
            "colorscale": [
             [
              0,
              "#0d0887"
             ],
             [
              0.1111111111111111,
              "#46039f"
             ],
             [
              0.2222222222222222,
              "#7201a8"
             ],
             [
              0.3333333333333333,
              "#9c179e"
             ],
             [
              0.4444444444444444,
              "#bd3786"
             ],
             [
              0.5555555555555556,
              "#d8576b"
             ],
             [
              0.6666666666666666,
              "#ed7953"
             ],
             [
              0.7777777777777778,
              "#fb9f3a"
             ],
             [
              0.8888888888888888,
              "#fdca26"
             ],
             [
              1,
              "#f0f921"
             ]
            ],
            "type": "heatmap"
           }
          ],
          "heatmapgl": [
           {
            "colorbar": {
             "outlinewidth": 0,
             "ticks": ""
            },
            "colorscale": [
             [
              0,
              "#0d0887"
             ],
             [
              0.1111111111111111,
              "#46039f"
             ],
             [
              0.2222222222222222,
              "#7201a8"
             ],
             [
              0.3333333333333333,
              "#9c179e"
             ],
             [
              0.4444444444444444,
              "#bd3786"
             ],
             [
              0.5555555555555556,
              "#d8576b"
             ],
             [
              0.6666666666666666,
              "#ed7953"
             ],
             [
              0.7777777777777778,
              "#fb9f3a"
             ],
             [
              0.8888888888888888,
              "#fdca26"
             ],
             [
              1,
              "#f0f921"
             ]
            ],
            "type": "heatmapgl"
           }
          ],
          "histogram": [
           {
            "marker": {
             "colorbar": {
              "outlinewidth": 0,
              "ticks": ""
             }
            },
            "type": "histogram"
           }
          ],
          "histogram2d": [
           {
            "colorbar": {
             "outlinewidth": 0,
             "ticks": ""
            },
            "colorscale": [
             [
              0,
              "#0d0887"
             ],
             [
              0.1111111111111111,
              "#46039f"
             ],
             [
              0.2222222222222222,
              "#7201a8"
             ],
             [
              0.3333333333333333,
              "#9c179e"
             ],
             [
              0.4444444444444444,
              "#bd3786"
             ],
             [
              0.5555555555555556,
              "#d8576b"
             ],
             [
              0.6666666666666666,
              "#ed7953"
             ],
             [
              0.7777777777777778,
              "#fb9f3a"
             ],
             [
              0.8888888888888888,
              "#fdca26"
             ],
             [
              1,
              "#f0f921"
             ]
            ],
            "type": "histogram2d"
           }
          ],
          "histogram2dcontour": [
           {
            "colorbar": {
             "outlinewidth": 0,
             "ticks": ""
            },
            "colorscale": [
             [
              0,
              "#0d0887"
             ],
             [
              0.1111111111111111,
              "#46039f"
             ],
             [
              0.2222222222222222,
              "#7201a8"
             ],
             [
              0.3333333333333333,
              "#9c179e"
             ],
             [
              0.4444444444444444,
              "#bd3786"
             ],
             [
              0.5555555555555556,
              "#d8576b"
             ],
             [
              0.6666666666666666,
              "#ed7953"
             ],
             [
              0.7777777777777778,
              "#fb9f3a"
             ],
             [
              0.8888888888888888,
              "#fdca26"
             ],
             [
              1,
              "#f0f921"
             ]
            ],
            "type": "histogram2dcontour"
           }
          ],
          "mesh3d": [
           {
            "colorbar": {
             "outlinewidth": 0,
             "ticks": ""
            },
            "type": "mesh3d"
           }
          ],
          "parcoords": [
           {
            "line": {
             "colorbar": {
              "outlinewidth": 0,
              "ticks": ""
             }
            },
            "type": "parcoords"
           }
          ],
          "pie": [
           {
            "automargin": true,
            "type": "pie"
           }
          ],
          "scatter": [
           {
            "marker": {
             "colorbar": {
              "outlinewidth": 0,
              "ticks": ""
             }
            },
            "type": "scatter"
           }
          ],
          "scatter3d": [
           {
            "line": {
             "colorbar": {
              "outlinewidth": 0,
              "ticks": ""
             }
            },
            "marker": {
             "colorbar": {
              "outlinewidth": 0,
              "ticks": ""
             }
            },
            "type": "scatter3d"
           }
          ],
          "scattercarpet": [
           {
            "marker": {
             "colorbar": {
              "outlinewidth": 0,
              "ticks": ""
             }
            },
            "type": "scattercarpet"
           }
          ],
          "scattergeo": [
           {
            "marker": {
             "colorbar": {
              "outlinewidth": 0,
              "ticks": ""
             }
            },
            "type": "scattergeo"
           }
          ],
          "scattergl": [
           {
            "marker": {
             "colorbar": {
              "outlinewidth": 0,
              "ticks": ""
             }
            },
            "type": "scattergl"
           }
          ],
          "scattermapbox": [
           {
            "marker": {
             "colorbar": {
              "outlinewidth": 0,
              "ticks": ""
             }
            },
            "type": "scattermapbox"
           }
          ],
          "scatterpolar": [
           {
            "marker": {
             "colorbar": {
              "outlinewidth": 0,
              "ticks": ""
             }
            },
            "type": "scatterpolar"
           }
          ],
          "scatterpolargl": [
           {
            "marker": {
             "colorbar": {
              "outlinewidth": 0,
              "ticks": ""
             }
            },
            "type": "scatterpolargl"
           }
          ],
          "scatterternary": [
           {
            "marker": {
             "colorbar": {
              "outlinewidth": 0,
              "ticks": ""
             }
            },
            "type": "scatterternary"
           }
          ],
          "surface": [
           {
            "colorbar": {
             "outlinewidth": 0,
             "ticks": ""
            },
            "colorscale": [
             [
              0,
              "#0d0887"
             ],
             [
              0.1111111111111111,
              "#46039f"
             ],
             [
              0.2222222222222222,
              "#7201a8"
             ],
             [
              0.3333333333333333,
              "#9c179e"
             ],
             [
              0.4444444444444444,
              "#bd3786"
             ],
             [
              0.5555555555555556,
              "#d8576b"
             ],
             [
              0.6666666666666666,
              "#ed7953"
             ],
             [
              0.7777777777777778,
              "#fb9f3a"
             ],
             [
              0.8888888888888888,
              "#fdca26"
             ],
             [
              1,
              "#f0f921"
             ]
            ],
            "type": "surface"
           }
          ],
          "table": [
           {
            "cells": {
             "fill": {
              "color": "#EBF0F8"
             },
             "line": {
              "color": "white"
             }
            },
            "header": {
             "fill": {
              "color": "#C8D4E3"
             },
             "line": {
              "color": "white"
             }
            },
            "type": "table"
           }
          ]
         },
         "layout": {
          "annotationdefaults": {
           "arrowcolor": "#2a3f5f",
           "arrowhead": 0,
           "arrowwidth": 1
          },
          "coloraxis": {
           "colorbar": {
            "outlinewidth": 0,
            "ticks": ""
           }
          },
          "colorscale": {
           "diverging": [
            [
             0,
             "#8e0152"
            ],
            [
             0.1,
             "#c51b7d"
            ],
            [
             0.2,
             "#de77ae"
            ],
            [
             0.3,
             "#f1b6da"
            ],
            [
             0.4,
             "#fde0ef"
            ],
            [
             0.5,
             "#f7f7f7"
            ],
            [
             0.6,
             "#e6f5d0"
            ],
            [
             0.7,
             "#b8e186"
            ],
            [
             0.8,
             "#7fbc41"
            ],
            [
             0.9,
             "#4d9221"
            ],
            [
             1,
             "#276419"
            ]
           ],
           "sequential": [
            [
             0,
             "#0d0887"
            ],
            [
             0.1111111111111111,
             "#46039f"
            ],
            [
             0.2222222222222222,
             "#7201a8"
            ],
            [
             0.3333333333333333,
             "#9c179e"
            ],
            [
             0.4444444444444444,
             "#bd3786"
            ],
            [
             0.5555555555555556,
             "#d8576b"
            ],
            [
             0.6666666666666666,
             "#ed7953"
            ],
            [
             0.7777777777777778,
             "#fb9f3a"
            ],
            [
             0.8888888888888888,
             "#fdca26"
            ],
            [
             1,
             "#f0f921"
            ]
           ],
           "sequentialminus": [
            [
             0,
             "#0d0887"
            ],
            [
             0.1111111111111111,
             "#46039f"
            ],
            [
             0.2222222222222222,
             "#7201a8"
            ],
            [
             0.3333333333333333,
             "#9c179e"
            ],
            [
             0.4444444444444444,
             "#bd3786"
            ],
            [
             0.5555555555555556,
             "#d8576b"
            ],
            [
             0.6666666666666666,
             "#ed7953"
            ],
            [
             0.7777777777777778,
             "#fb9f3a"
            ],
            [
             0.8888888888888888,
             "#fdca26"
            ],
            [
             1,
             "#f0f921"
            ]
           ]
          },
          "colorway": [
           "#636efa",
           "#EF553B",
           "#00cc96",
           "#ab63fa",
           "#FFA15A",
           "#19d3f3",
           "#FF6692",
           "#B6E880",
           "#FF97FF",
           "#FECB52"
          ],
          "font": {
           "color": "#2a3f5f"
          },
          "geo": {
           "bgcolor": "white",
           "lakecolor": "white",
           "landcolor": "#E5ECF6",
           "showlakes": true,
           "showland": true,
           "subunitcolor": "white"
          },
          "hoverlabel": {
           "align": "left"
          },
          "hovermode": "closest",
          "mapbox": {
           "style": "light"
          },
          "paper_bgcolor": "white",
          "plot_bgcolor": "#E5ECF6",
          "polar": {
           "angularaxis": {
            "gridcolor": "white",
            "linecolor": "white",
            "ticks": ""
           },
           "bgcolor": "#E5ECF6",
           "radialaxis": {
            "gridcolor": "white",
            "linecolor": "white",
            "ticks": ""
           }
          },
          "scene": {
           "xaxis": {
            "backgroundcolor": "#E5ECF6",
            "gridcolor": "white",
            "gridwidth": 2,
            "linecolor": "white",
            "showbackground": true,
            "ticks": "",
            "zerolinecolor": "white"
           },
           "yaxis": {
            "backgroundcolor": "#E5ECF6",
            "gridcolor": "white",
            "gridwidth": 2,
            "linecolor": "white",
            "showbackground": true,
            "ticks": "",
            "zerolinecolor": "white"
           },
           "zaxis": {
            "backgroundcolor": "#E5ECF6",
            "gridcolor": "white",
            "gridwidth": 2,
            "linecolor": "white",
            "showbackground": true,
            "ticks": "",
            "zerolinecolor": "white"
           }
          },
          "shapedefaults": {
           "line": {
            "color": "#2a3f5f"
           }
          },
          "ternary": {
           "aaxis": {
            "gridcolor": "white",
            "linecolor": "white",
            "ticks": ""
           },
           "baxis": {
            "gridcolor": "white",
            "linecolor": "white",
            "ticks": ""
           },
           "bgcolor": "#E5ECF6",
           "caxis": {
            "gridcolor": "white",
            "linecolor": "white",
            "ticks": ""
           }
          },
          "title": {
           "x": 0.05
          },
          "xaxis": {
           "automargin": true,
           "gridcolor": "white",
           "linecolor": "white",
           "ticks": "",
           "title": {
            "standoff": 15
           },
           "zerolinecolor": "white",
           "zerolinewidth": 2
          },
          "yaxis": {
           "automargin": true,
           "gridcolor": "white",
           "linecolor": "white",
           "ticks": "",
           "title": {
            "standoff": 15
           },
           "zerolinecolor": "white",
           "zerolinewidth": 2
          }
         }
        },
        "title": {
         "text": "Plot"
        }
       }
      },
      "text/html": [
       "<div>\n",
       "        \n",
       "        \n",
       "            <div id=\"6ea1deb4-6bdf-48bb-9cec-3e173b7fa30a\" class=\"plotly-graph-div\" style=\"height:525px; width:100%;\"></div>\n",
       "            <script type=\"text/javascript\">\n",
       "                require([\"plotly\"], function(Plotly) {\n",
       "                    window.PLOTLYENV=window.PLOTLYENV || {};\n",
       "                    \n",
       "                if (document.getElementById(\"6ea1deb4-6bdf-48bb-9cec-3e173b7fa30a\")) {\n",
       "                    Plotly.newPlot(\n",
       "                        '6ea1deb4-6bdf-48bb-9cec-3e173b7fa30a',\n",
       "                        [{\"line\": {\"color\": \"rgb(24,185,176)\"}, \"mode\": \"lines\", \"type\": \"scattergl\", \"x\": [\"2011-03-01T00:00:00\", \"2011-06-01T00:00:00\", \"2011-09-01T00:00:00\", \"2011-12-01T00:00:00\", \"2012-03-01T00:00:00\", \"2012-06-01T00:00:00\", \"2012-09-01T00:00:00\", \"2012-12-01T00:00:00\", \"2013-03-01T00:00:00\", \"2013-06-01T00:00:00\", \"2013-09-01T00:00:00\", \"2013-12-01T00:00:00\", \"2014-03-01T00:00:00\", \"2014-06-01T00:00:00\", \"2014-09-01T00:00:00\", \"2014-12-01T00:00:00\", \"2015-03-01T00:00:00\", \"2015-06-01T00:00:00\", \"2015-09-01T00:00:00\", \"2015-12-01T00:00:00\", \"2016-03-01T00:00:00\", \"2016-06-01T00:00:00\", \"2016-09-01T00:00:00\", \"2016-12-01T00:00:00\", \"2017-03-01T00:00:00\", \"2017-06-01T00:00:00\", \"2017-09-01T00:00:00\", \"2017-12-01T00:00:00\", \"2018-03-01T00:00:00\", \"2018-06-01T00:00:00\", \"2018-09-01T00:00:00\", \"2018-12-01T00:00:00\", \"2019-03-01T00:00:00\", \"2019-06-01T00:00:00\", \"2019-09-01T00:00:00\", \"2019-12-01T00:00:00\", \"2020-03-01T00:00:00\", \"2020-06-01T00:00:00\", \"2020-09-01T00:00:00\"], \"y\": [78670000, 78354000, 82971000, 74072000, 80102000, 73013000, 74449000, 78815000, 100737926, 88940376, 97391949, 130200749, 130512165, 139460964, 136448046, 178397825, 190384939, 165088579, 189119227, 245760231, 172674709, 190865138, 216598381, 234915772, 210571874, 225924827, 246313242, 270110057, 254275543, 290173777, 343950204, 349893476, 300622000, 342149000, 390705000, 481485000, 498443000, 463274000, 586181000]}, {\"line\": {\"color\": \"rgb(100,89,213)\"}, \"mode\": \"lines\", \"type\": \"scattergl\", \"x\": [\"2011-03-01T00:00:00\", \"2011-06-01T00:00:00\", \"2011-09-01T00:00:00\", \"2011-12-01T00:00:00\", \"2012-03-01T00:00:00\", \"2012-06-01T00:00:00\", \"2012-09-01T00:00:00\", \"2012-12-01T00:00:00\", \"2013-03-01T00:00:00\", \"2013-06-01T00:00:00\", \"2013-09-01T00:00:00\", \"2013-12-01T00:00:00\", \"2014-03-01T00:00:00\", \"2014-06-01T00:00:00\", \"2014-09-01T00:00:00\", \"2014-12-01T00:00:00\", \"2015-03-01T00:00:00\", \"2015-06-01T00:00:00\", \"2015-09-01T00:00:00\", \"2015-12-01T00:00:00\", \"2016-03-01T00:00:00\", \"2016-06-01T00:00:00\", \"2016-09-01T00:00:00\", \"2016-12-01T00:00:00\", \"2017-03-01T00:00:00\", \"2017-06-01T00:00:00\", \"2017-09-01T00:00:00\", \"2017-12-01T00:00:00\", \"2018-03-01T00:00:00\", \"2018-06-01T00:00:00\", \"2018-09-01T00:00:00\", \"2018-12-01T00:00:00\", \"2019-03-01T00:00:00\", \"2019-06-01T00:00:00\", \"2019-09-01T00:00:00\", \"2019-12-01T00:00:00\", \"2020-03-01T00:00:00\", \"2020-06-01T00:00:00\", \"2020-09-01T00:00:00\"], \"y\": [34707000, 31979000, -15351000, 8054000, 13950000, 1665000, 3900000, -3246000, 13009554, 1335992, 11250223, 6034231, 17936538, 28308596, 27358517, 25417349, 24282266, 55975973, 37147579, 71049428, 11139622, 22870670, 57245509, 74110199, 45638151, 59313468, 69760234, 78901147, 62735692, 73636518, 108698786, 112795004, 93160000, 115533000, 151602000, 180701000, 247329000, 174743000, 240711000]}],\n",
       "                        {\"template\": {\"data\": {\"bar\": [{\"error_x\": {\"color\": \"#2a3f5f\"}, \"error_y\": {\"color\": \"#2a3f5f\"}, \"marker\": {\"line\": {\"color\": \"#E5ECF6\", \"width\": 0.5}}, \"type\": \"bar\"}], \"barpolar\": [{\"marker\": {\"line\": {\"color\": \"#E5ECF6\", \"width\": 0.5}}, \"type\": \"barpolar\"}], \"carpet\": [{\"aaxis\": {\"endlinecolor\": \"#2a3f5f\", \"gridcolor\": \"white\", \"linecolor\": \"white\", \"minorgridcolor\": \"white\", \"startlinecolor\": \"#2a3f5f\"}, \"baxis\": {\"endlinecolor\": \"#2a3f5f\", \"gridcolor\": \"white\", \"linecolor\": \"white\", \"minorgridcolor\": \"white\", \"startlinecolor\": \"#2a3f5f\"}, \"type\": \"carpet\"}], \"choropleth\": [{\"colorbar\": {\"outlinewidth\": 0, \"ticks\": \"\"}, \"type\": \"choropleth\"}], \"contour\": [{\"colorbar\": {\"outlinewidth\": 0, \"ticks\": \"\"}, \"colorscale\": [[0.0, \"#0d0887\"], [0.1111111111111111, \"#46039f\"], [0.2222222222222222, \"#7201a8\"], [0.3333333333333333, \"#9c179e\"], [0.4444444444444444, \"#bd3786\"], [0.5555555555555556, \"#d8576b\"], [0.6666666666666666, \"#ed7953\"], [0.7777777777777778, \"#fb9f3a\"], [0.8888888888888888, \"#fdca26\"], [1.0, \"#f0f921\"]], \"type\": \"contour\"}], \"contourcarpet\": [{\"colorbar\": {\"outlinewidth\": 0, \"ticks\": \"\"}, \"type\": \"contourcarpet\"}], \"heatmap\": [{\"colorbar\": {\"outlinewidth\": 0, \"ticks\": \"\"}, \"colorscale\": [[0.0, \"#0d0887\"], [0.1111111111111111, \"#46039f\"], [0.2222222222222222, \"#7201a8\"], [0.3333333333333333, \"#9c179e\"], [0.4444444444444444, \"#bd3786\"], [0.5555555555555556, \"#d8576b\"], [0.6666666666666666, \"#ed7953\"], [0.7777777777777778, \"#fb9f3a\"], [0.8888888888888888, \"#fdca26\"], [1.0, \"#f0f921\"]], \"type\": \"heatmap\"}], \"heatmapgl\": [{\"colorbar\": {\"outlinewidth\": 0, \"ticks\": \"\"}, \"colorscale\": [[0.0, \"#0d0887\"], [0.1111111111111111, \"#46039f\"], [0.2222222222222222, \"#7201a8\"], [0.3333333333333333, \"#9c179e\"], [0.4444444444444444, \"#bd3786\"], [0.5555555555555556, \"#d8576b\"], [0.6666666666666666, \"#ed7953\"], [0.7777777777777778, \"#fb9f3a\"], [0.8888888888888888, \"#fdca26\"], [1.0, \"#f0f921\"]], \"type\": \"heatmapgl\"}], \"histogram\": [{\"marker\": {\"colorbar\": {\"outlinewidth\": 0, \"ticks\": \"\"}}, \"type\": \"histogram\"}], \"histogram2d\": [{\"colorbar\": {\"outlinewidth\": 0, \"ticks\": \"\"}, \"colorscale\": [[0.0, \"#0d0887\"], [0.1111111111111111, \"#46039f\"], [0.2222222222222222, \"#7201a8\"], [0.3333333333333333, \"#9c179e\"], [0.4444444444444444, \"#bd3786\"], [0.5555555555555556, \"#d8576b\"], [0.6666666666666666, \"#ed7953\"], [0.7777777777777778, \"#fb9f3a\"], [0.8888888888888888, \"#fdca26\"], [1.0, \"#f0f921\"]], \"type\": \"histogram2d\"}], \"histogram2dcontour\": [{\"colorbar\": {\"outlinewidth\": 0, \"ticks\": \"\"}, \"colorscale\": [[0.0, \"#0d0887\"], [0.1111111111111111, \"#46039f\"], [0.2222222222222222, \"#7201a8\"], [0.3333333333333333, \"#9c179e\"], [0.4444444444444444, \"#bd3786\"], [0.5555555555555556, \"#d8576b\"], [0.6666666666666666, \"#ed7953\"], [0.7777777777777778, \"#fb9f3a\"], [0.8888888888888888, \"#fdca26\"], [1.0, \"#f0f921\"]], \"type\": \"histogram2dcontour\"}], \"mesh3d\": [{\"colorbar\": {\"outlinewidth\": 0, \"ticks\": \"\"}, \"type\": \"mesh3d\"}], \"parcoords\": [{\"line\": {\"colorbar\": {\"outlinewidth\": 0, \"ticks\": \"\"}}, \"type\": \"parcoords\"}], \"pie\": [{\"automargin\": true, \"type\": \"pie\"}], \"scatter\": [{\"marker\": {\"colorbar\": {\"outlinewidth\": 0, \"ticks\": \"\"}}, \"type\": \"scatter\"}], \"scatter3d\": [{\"line\": {\"colorbar\": {\"outlinewidth\": 0, \"ticks\": \"\"}}, \"marker\": {\"colorbar\": {\"outlinewidth\": 0, \"ticks\": \"\"}}, \"type\": \"scatter3d\"}], \"scattercarpet\": [{\"marker\": {\"colorbar\": {\"outlinewidth\": 0, \"ticks\": \"\"}}, \"type\": \"scattercarpet\"}], \"scattergeo\": [{\"marker\": {\"colorbar\": {\"outlinewidth\": 0, \"ticks\": \"\"}}, \"type\": \"scattergeo\"}], \"scattergl\": [{\"marker\": {\"colorbar\": {\"outlinewidth\": 0, \"ticks\": \"\"}}, \"type\": \"scattergl\"}], \"scattermapbox\": [{\"marker\": {\"colorbar\": {\"outlinewidth\": 0, \"ticks\": \"\"}}, \"type\": \"scattermapbox\"}], \"scatterpolar\": [{\"marker\": {\"colorbar\": {\"outlinewidth\": 0, \"ticks\": \"\"}}, \"type\": \"scatterpolar\"}], \"scatterpolargl\": [{\"marker\": {\"colorbar\": {\"outlinewidth\": 0, \"ticks\": \"\"}}, \"type\": \"scatterpolargl\"}], \"scatterternary\": [{\"marker\": {\"colorbar\": {\"outlinewidth\": 0, \"ticks\": \"\"}}, \"type\": \"scatterternary\"}], \"surface\": [{\"colorbar\": {\"outlinewidth\": 0, \"ticks\": \"\"}, \"colorscale\": [[0.0, \"#0d0887\"], [0.1111111111111111, \"#46039f\"], [0.2222222222222222, \"#7201a8\"], [0.3333333333333333, \"#9c179e\"], [0.4444444444444444, \"#bd3786\"], [0.5555555555555556, \"#d8576b\"], [0.6666666666666666, \"#ed7953\"], [0.7777777777777778, \"#fb9f3a\"], [0.8888888888888888, \"#fdca26\"], [1.0, \"#f0f921\"]], \"type\": \"surface\"}], \"table\": [{\"cells\": {\"fill\": {\"color\": \"#EBF0F8\"}, \"line\": {\"color\": \"white\"}}, \"header\": {\"fill\": {\"color\": \"#C8D4E3\"}, \"line\": {\"color\": \"white\"}}, \"type\": \"table\"}]}, \"layout\": {\"annotationdefaults\": {\"arrowcolor\": \"#2a3f5f\", \"arrowhead\": 0, \"arrowwidth\": 1}, \"coloraxis\": {\"colorbar\": {\"outlinewidth\": 0, \"ticks\": \"\"}}, \"colorscale\": {\"diverging\": [[0, \"#8e0152\"], [0.1, \"#c51b7d\"], [0.2, \"#de77ae\"], [0.3, \"#f1b6da\"], [0.4, \"#fde0ef\"], [0.5, \"#f7f7f7\"], [0.6, \"#e6f5d0\"], [0.7, \"#b8e186\"], [0.8, \"#7fbc41\"], [0.9, \"#4d9221\"], [1, \"#276419\"]], \"sequential\": [[0.0, \"#0d0887\"], [0.1111111111111111, \"#46039f\"], [0.2222222222222222, \"#7201a8\"], [0.3333333333333333, \"#9c179e\"], [0.4444444444444444, \"#bd3786\"], [0.5555555555555556, \"#d8576b\"], [0.6666666666666666, \"#ed7953\"], [0.7777777777777778, \"#fb9f3a\"], [0.8888888888888888, \"#fdca26\"], [1.0, \"#f0f921\"]], \"sequentialminus\": [[0.0, \"#0d0887\"], [0.1111111111111111, \"#46039f\"], [0.2222222222222222, \"#7201a8\"], [0.3333333333333333, \"#9c179e\"], [0.4444444444444444, \"#bd3786\"], [0.5555555555555556, \"#d8576b\"], [0.6666666666666666, \"#ed7953\"], [0.7777777777777778, \"#fb9f3a\"], [0.8888888888888888, \"#fdca26\"], [1.0, \"#f0f921\"]]}, \"colorway\": [\"#636efa\", \"#EF553B\", \"#00cc96\", \"#ab63fa\", \"#FFA15A\", \"#19d3f3\", \"#FF6692\", \"#B6E880\", \"#FF97FF\", \"#FECB52\"], \"font\": {\"color\": \"#2a3f5f\"}, \"geo\": {\"bgcolor\": \"white\", \"lakecolor\": \"white\", \"landcolor\": \"#E5ECF6\", \"showlakes\": true, \"showland\": true, \"subunitcolor\": \"white\"}, \"hoverlabel\": {\"align\": \"left\"}, \"hovermode\": \"closest\", \"mapbox\": {\"style\": \"light\"}, \"paper_bgcolor\": \"white\", \"plot_bgcolor\": \"#E5ECF6\", \"polar\": {\"angularaxis\": {\"gridcolor\": \"white\", \"linecolor\": \"white\", \"ticks\": \"\"}, \"bgcolor\": \"#E5ECF6\", \"radialaxis\": {\"gridcolor\": \"white\", \"linecolor\": \"white\", \"ticks\": \"\"}}, \"scene\": {\"xaxis\": {\"backgroundcolor\": \"#E5ECF6\", \"gridcolor\": \"white\", \"gridwidth\": 2, \"linecolor\": \"white\", \"showbackground\": true, \"ticks\": \"\", \"zerolinecolor\": \"white\"}, \"yaxis\": {\"backgroundcolor\": \"#E5ECF6\", \"gridcolor\": \"white\", \"gridwidth\": 2, \"linecolor\": \"white\", \"showbackground\": true, \"ticks\": \"\", \"zerolinecolor\": \"white\"}, \"zaxis\": {\"backgroundcolor\": \"#E5ECF6\", \"gridcolor\": \"white\", \"gridwidth\": 2, \"linecolor\": \"white\", \"showbackground\": true, \"ticks\": \"\", \"zerolinecolor\": \"white\"}}, \"shapedefaults\": {\"line\": {\"color\": \"#2a3f5f\"}}, \"ternary\": {\"aaxis\": {\"gridcolor\": \"white\", \"linecolor\": \"white\", \"ticks\": \"\"}, \"baxis\": {\"gridcolor\": \"white\", \"linecolor\": \"white\", \"ticks\": \"\"}, \"bgcolor\": \"#E5ECF6\", \"caxis\": {\"gridcolor\": \"white\", \"linecolor\": \"white\", \"ticks\": \"\"}}, \"title\": {\"x\": 0.05}, \"xaxis\": {\"automargin\": true, \"gridcolor\": \"white\", \"linecolor\": \"white\", \"ticks\": \"\", \"title\": {\"standoff\": 15}, \"zerolinecolor\": \"white\", \"zerolinewidth\": 2}, \"yaxis\": {\"automargin\": true, \"gridcolor\": \"white\", \"linecolor\": \"white\", \"ticks\": \"\", \"title\": {\"standoff\": 15}, \"zerolinecolor\": \"white\", \"zerolinewidth\": 2}}}, \"title\": {\"text\": \"Plot\"}},\n",
       "                        {\"responsive\": true}\n",
       "                    ).then(function(){\n",
       "                            \n",
       "var gd = document.getElementById('6ea1deb4-6bdf-48bb-9cec-3e173b7fa30a');\n",
       "var x = new MutationObserver(function (mutations, observer) {{\n",
       "        var display = window.getComputedStyle(gd).display;\n",
       "        if (!display || display === 'none') {{\n",
       "            console.log([gd, 'removed!']);\n",
       "            Plotly.purge(gd);\n",
       "            observer.disconnect();\n",
       "        }}\n",
       "}});\n",
       "\n",
       "// Listen for the removal of the full notebook cells\n",
       "var notebookContainer = gd.closest('#notebook-container');\n",
       "if (notebookContainer) {{\n",
       "    x.observe(notebookContainer, {childList: true});\n",
       "}}\n",
       "\n",
       "// Listen for the clearing of the current output cell\n",
       "var outputEl = gd.closest('.output');\n",
       "if (outputEl) {{\n",
       "    x.observe(outputEl, {childList: true});\n",
       "}}\n",
       "\n",
       "                        })\n",
       "                };\n",
       "                });\n",
       "            </script>\n",
       "        </div>"
      ]
     },
     "metadata": {},
     "output_type": "display_data"
    }
   ],
   "source": [
    "#визуализация\n",
    "r = lambda: random.randint(0,255)\n",
    "traces = [] #\n",
    "\n",
    "for col in data.columns[1:]:\n",
    "    color = \"rgb(\" + str(r()) + \",\"  + str(r()) + \",\" + str(r()) + \")\"\n",
    "    trace = plotly.graph_objs.Scattergl(\n",
    "        x=data.date,\n",
    "        y=data[col],\n",
    "        mode='lines',\n",
    "        line=dict(color = color)\n",
    "    )\n",
    "    traces.append(trace)\n",
    "\n",
    "layout = plotly.graph_objs.Layout(title='Plot',)\n",
    "fig = plotly.graph_objs.Figure(data=traces, layout=layout)\n",
    "\n",
    "plotly.offline.init_notebook_mode(connected=True)\n",
    "plotly.offline.iplot(fig, filename='dataplot')"
   ]
  },
  {
   "cell_type": "code",
   "execution_count": 5,
   "metadata": {},
   "outputs": [],
   "source": [
    "def LSTM_model(dataframe, look_back):\n",
    "    dataset = dataframe.values\n",
    "    dataset = dataset.astype('float32')\n",
    "    #масштабирование\n",
    "    scaler = MinMaxScaler(feature_range=(0, 1))\n",
    "    dataset = scaler.fit_transform(dataset)\n",
    "    #деление выборки на тестовую (20%) и обучающую (80%)\n",
    "    train, test = dataset[0:int(len(dataset) * 0.8),:], dataset[int(len(dataset) * 0.8):len(dataset),:]\n",
    "    trainX, trainY = create_dataset(train, look_back)\n",
    "    testX, testY = create_dataset(test, look_back)\n",
    "    #вид [samples, time steps, features] для LSTM\n",
    "    trainX = np.reshape(trainX, (trainX.shape[0], 1, trainX.shape[1]))\n",
    "    testX = np.reshape(testX, (testX.shape[0], 1, testX.shape[1]))\n",
    "    #создание и обучение нейросети\n",
    "    model = Sequential()\n",
    "    model.add(LSTM(4, input_shape=(1, look_back)))\n",
    "    model.add(Dense(1))\n",
    "    model.compile(loss='mean_squared_error', optimizer='adam')\n",
    "    model.fit(trainX, trainY, epochs=150, batch_size=1, verbose=2)\n",
    "    #прогноз\n",
    "    trainPredict = model.predict(trainX)\n",
    "    testPredict = model.predict(testX)\n",
    "    #прогноз к первоначальному виду данных\n",
    "    trainPredict = scaler.inverse_transform(trainPredict)\n",
    "    trainY = scaler.inverse_transform([trainY])\n",
    "    testPredict = scaler.inverse_transform(testPredict)\n",
    "    testY = scaler.inverse_transform([testY])\n",
    "    #RMSE\n",
    "    trainScore = math.sqrt(mean_squared_error(trainY[0], trainPredict[:,0]))\n",
    "    print('Train Score: %.2f RMSE' % (trainScore))\n",
    "    testScore = math.sqrt(mean_squared_error(testY[0], testPredict[:,0]))\n",
    "    print('Test Score: %.2f RMSE' % (testScore))\n",
    "    return trainPredict, testPredict\n",
    "\n",
    "def plot_predict(dataframe, trainPredict, testPredict,look_back):\n",
    "    dataset = dataframe.values\n",
    "    dataset = dataset.astype('float32')\n",
    "    scaler = MinMaxScaler(feature_range=(0, 1))\n",
    "    dataset = scaler.fit_transform(dataset)\n",
    "    #смещение прогноза обратно\n",
    "    trainPredictPlot = np.empty_like(dataset)\n",
    "    trainPredictPlot[:, :] = np.nan\n",
    "    trainPredictPlot[look_back:len(trainPredict)+look_back, :] = trainPredict\n",
    "    testPredictPlot = np.empty_like(dataset)\n",
    "    testPredictPlot[:, :] = np.nan\n",
    "    testPredictPlot[len(trainPredict)+(look_back*2)+1:len(dataset)-1, :] = testPredict\n",
    "    #график\n",
    "    plt.plot(scaler.inverse_transform(dataset))\n",
    "    plt.plot(trainPredictPlot)\n",
    "    plt.plot(testPredictPlot)\n",
    "    plt.show()\n",
    "    \n",
    "def create_dataset(dataset, look_back=1):\n",
    "    dataX, dataY = [], []\n",
    "    for i in range(len(dataset)-look_back-1):\n",
    "        a = dataset[i:(i+look_back), 0]\n",
    "        dataX.append(a)\n",
    "        dataY.append(dataset[i + look_back, 0])\n",
    "    return np.array(dataX), np.array(dataY)"
   ]
  },
  {
   "cell_type": "code",
   "execution_count": 6,
   "metadata": {},
   "outputs": [],
   "source": [
    "income = pd.DataFrame({0:data['Income']})\n",
    "profit = pd.DataFrame({0:data['Profit']})"
   ]
  },
  {
   "cell_type": "code",
   "execution_count": 7,
   "metadata": {},
   "outputs": [
    {
     "name": "stdout",
     "output_type": "stream",
     "text": [
      "Epoch 1/150\n",
      "29/29 - 0s - loss: 0.0392\n",
      "Epoch 2/150\n",
      "29/29 - 0s - loss: 0.0292\n",
      "Epoch 3/150\n",
      "29/29 - 0s - loss: 0.0226\n",
      "Epoch 4/150\n",
      "29/29 - 0s - loss: 0.0186\n",
      "Epoch 5/150\n",
      "29/29 - 0s - loss: 0.0166\n",
      "Epoch 6/150\n",
      "29/29 - 0s - loss: 0.0153\n",
      "Epoch 7/150\n",
      "29/29 - 0s - loss: 0.0147\n",
      "Epoch 8/150\n",
      "29/29 - 0s - loss: 0.0142\n",
      "Epoch 9/150\n",
      "29/29 - 0s - loss: 0.0138\n",
      "Epoch 10/150\n",
      "29/29 - 0s - loss: 0.0135\n",
      "Epoch 11/150\n",
      "29/29 - 0s - loss: 0.0131\n",
      "Epoch 12/150\n",
      "29/29 - 0s - loss: 0.0128\n",
      "Epoch 13/150\n",
      "29/29 - 0s - loss: 0.0124\n",
      "Epoch 14/150\n",
      "29/29 - 0s - loss: 0.0120\n",
      "Epoch 15/150\n",
      "29/29 - 0s - loss: 0.0117\n",
      "Epoch 16/150\n",
      "29/29 - 0s - loss: 0.0113\n",
      "Epoch 17/150\n",
      "29/29 - 0s - loss: 0.0110\n",
      "Epoch 18/150\n",
      "29/29 - 0s - loss: 0.0106\n",
      "Epoch 19/150\n",
      "29/29 - 0s - loss: 0.0102\n",
      "Epoch 20/150\n",
      "29/29 - 0s - loss: 0.0099\n",
      "Epoch 21/150\n",
      "29/29 - 0s - loss: 0.0094\n",
      "Epoch 22/150\n",
      "29/29 - 0s - loss: 0.0092\n",
      "Epoch 23/150\n",
      "29/29 - 0s - loss: 0.0088\n",
      "Epoch 24/150\n",
      "29/29 - 0s - loss: 0.0085\n",
      "Epoch 25/150\n",
      "29/29 - 0s - loss: 0.0081\n",
      "Epoch 26/150\n",
      "29/29 - 0s - loss: 0.0077\n",
      "Epoch 27/150\n",
      "29/29 - 0s - loss: 0.0074\n",
      "Epoch 28/150\n",
      "29/29 - 0s - loss: 0.0072\n",
      "Epoch 29/150\n",
      "29/29 - 0s - loss: 0.0067\n",
      "Epoch 30/150\n",
      "29/29 - 0s - loss: 0.0064\n",
      "Epoch 31/150\n",
      "29/29 - 0s - loss: 0.0060\n",
      "Epoch 32/150\n",
      "29/29 - 0s - loss: 0.0058\n",
      "Epoch 33/150\n",
      "29/29 - 0s - loss: 0.0055\n",
      "Epoch 34/150\n",
      "29/29 - 0s - loss: 0.0052\n",
      "Epoch 35/150\n",
      "29/29 - 0s - loss: 0.0049\n",
      "Epoch 36/150\n",
      "29/29 - 0s - loss: 0.0047\n",
      "Epoch 37/150\n",
      "29/29 - 0s - loss: 0.0045\n",
      "Epoch 38/150\n",
      "29/29 - 0s - loss: 0.0043\n",
      "Epoch 39/150\n",
      "29/29 - 0s - loss: 0.0041\n",
      "Epoch 40/150\n",
      "29/29 - 0s - loss: 0.0039\n",
      "Epoch 41/150\n",
      "29/29 - 0s - loss: 0.0037\n",
      "Epoch 42/150\n",
      "29/29 - 0s - loss: 0.0035\n",
      "Epoch 43/150\n",
      "29/29 - 0s - loss: 0.0034\n",
      "Epoch 44/150\n",
      "29/29 - 0s - loss: 0.0033\n",
      "Epoch 45/150\n",
      "29/29 - 0s - loss: 0.0031\n",
      "Epoch 46/150\n",
      "29/29 - 0s - loss: 0.0031\n",
      "Epoch 47/150\n",
      "29/29 - 0s - loss: 0.0030\n",
      "Epoch 48/150\n",
      "29/29 - 0s - loss: 0.0029\n",
      "Epoch 49/150\n",
      "29/29 - 0s - loss: 0.0028\n",
      "Epoch 50/150\n",
      "29/29 - 0s - loss: 0.0028\n",
      "Epoch 51/150\n",
      "29/29 - 0s - loss: 0.0027\n",
      "Epoch 52/150\n",
      "29/29 - 0s - loss: 0.0027\n",
      "Epoch 53/150\n",
      "29/29 - 0s - loss: 0.0026\n",
      "Epoch 54/150\n",
      "29/29 - 0s - loss: 0.0026\n",
      "Epoch 55/150\n",
      "29/29 - 0s - loss: 0.0026\n",
      "Epoch 56/150\n",
      "29/29 - 0s - loss: 0.0026\n",
      "Epoch 57/150\n",
      "29/29 - 0s - loss: 0.0025\n",
      "Epoch 58/150\n",
      "29/29 - 0s - loss: 0.0025\n",
      "Epoch 59/150\n",
      "29/29 - 0s - loss: 0.0024\n",
      "Epoch 60/150\n",
      "29/29 - 0s - loss: 0.0025\n",
      "Epoch 61/150\n",
      "29/29 - 0s - loss: 0.0024\n",
      "Epoch 62/150\n",
      "29/29 - 0s - loss: 0.0024\n",
      "Epoch 63/150\n",
      "29/29 - 0s - loss: 0.0025\n",
      "Epoch 64/150\n",
      "29/29 - 0s - loss: 0.0025\n",
      "Epoch 65/150\n",
      "29/29 - 0s - loss: 0.0026\n",
      "Epoch 66/150\n",
      "29/29 - 0s - loss: 0.0025\n",
      "Epoch 67/150\n",
      "29/29 - 0s - loss: 0.0024\n",
      "Epoch 68/150\n",
      "29/29 - 0s - loss: 0.0025\n",
      "Epoch 69/150\n",
      "29/29 - 0s - loss: 0.0024\n",
      "Epoch 70/150\n",
      "29/29 - 0s - loss: 0.0024\n",
      "Epoch 71/150\n",
      "29/29 - 0s - loss: 0.0024\n",
      "Epoch 72/150\n",
      "29/29 - 0s - loss: 0.0024\n",
      "Epoch 73/150\n",
      "29/29 - 0s - loss: 0.0024\n",
      "Epoch 74/150\n",
      "29/29 - 0s - loss: 0.0024\n",
      "Epoch 75/150\n",
      "29/29 - 0s - loss: 0.0024\n",
      "Epoch 76/150\n",
      "29/29 - 0s - loss: 0.0024\n",
      "Epoch 77/150\n",
      "29/29 - 0s - loss: 0.0024\n",
      "Epoch 78/150\n",
      "29/29 - 0s - loss: 0.0024\n",
      "Epoch 79/150\n",
      "29/29 - 0s - loss: 0.0024\n",
      "Epoch 80/150\n",
      "29/29 - 0s - loss: 0.0023\n",
      "Epoch 81/150\n",
      "29/29 - 0s - loss: 0.0024\n",
      "Epoch 82/150\n",
      "29/29 - 0s - loss: 0.0024\n",
      "Epoch 83/150\n",
      "29/29 - 0s - loss: 0.0025\n",
      "Epoch 84/150\n",
      "29/29 - 0s - loss: 0.0024\n",
      "Epoch 85/150\n",
      "29/29 - 0s - loss: 0.0025\n",
      "Epoch 86/150\n",
      "29/29 - 0s - loss: 0.0024\n",
      "Epoch 87/150\n",
      "29/29 - 0s - loss: 0.0025\n",
      "Epoch 88/150\n",
      "29/29 - 0s - loss: 0.0024\n",
      "Epoch 89/150\n",
      "29/29 - 0s - loss: 0.0024\n",
      "Epoch 90/150\n",
      "29/29 - 0s - loss: 0.0024\n",
      "Epoch 91/150\n",
      "29/29 - 0s - loss: 0.0024\n",
      "Epoch 92/150\n",
      "29/29 - 0s - loss: 0.0024\n",
      "Epoch 93/150\n",
      "29/29 - 0s - loss: 0.0024\n",
      "Epoch 94/150\n",
      "29/29 - 0s - loss: 0.0023\n",
      "Epoch 95/150\n",
      "29/29 - 0s - loss: 0.0024\n",
      "Epoch 96/150\n",
      "29/29 - 0s - loss: 0.0024\n",
      "Epoch 97/150\n",
      "29/29 - 0s - loss: 0.0024\n",
      "Epoch 98/150\n",
      "29/29 - 0s - loss: 0.0024\n",
      "Epoch 99/150\n",
      "29/29 - 0s - loss: 0.0024\n",
      "Epoch 100/150\n",
      "29/29 - 0s - loss: 0.0024\n",
      "Epoch 101/150\n",
      "29/29 - 0s - loss: 0.0024\n",
      "Epoch 102/150\n",
      "29/29 - 0s - loss: 0.0024\n",
      "Epoch 103/150\n",
      "29/29 - 0s - loss: 0.0024\n",
      "Epoch 104/150\n",
      "29/29 - 0s - loss: 0.0024\n",
      "Epoch 105/150\n",
      "29/29 - 0s - loss: 0.0023\n",
      "Epoch 106/150\n",
      "29/29 - 0s - loss: 0.0024\n",
      "Epoch 107/150\n",
      "29/29 - 0s - loss: 0.0024\n",
      "Epoch 108/150\n",
      "29/29 - 0s - loss: 0.0025\n",
      "Epoch 109/150\n",
      "29/29 - 0s - loss: 0.0023\n",
      "Epoch 110/150\n",
      "29/29 - 0s - loss: 0.0024\n",
      "Epoch 111/150\n",
      "29/29 - 0s - loss: 0.0024\n",
      "Epoch 112/150\n",
      "29/29 - 0s - loss: 0.0024\n",
      "Epoch 113/150\n",
      "29/29 - 0s - loss: 0.0023\n",
      "Epoch 114/150\n",
      "29/29 - 0s - loss: 0.0024\n",
      "Epoch 115/150\n",
      "29/29 - 0s - loss: 0.0024\n",
      "Epoch 116/150\n",
      "29/29 - 0s - loss: 0.0024\n",
      "Epoch 117/150\n",
      "29/29 - 0s - loss: 0.0024\n",
      "Epoch 118/150\n",
      "29/29 - 0s - loss: 0.0024\n",
      "Epoch 119/150\n",
      "29/29 - 0s - loss: 0.0024\n",
      "Epoch 120/150\n",
      "29/29 - 0s - loss: 0.0024\n",
      "Epoch 121/150\n",
      "29/29 - 0s - loss: 0.0024\n",
      "Epoch 122/150\n",
      "29/29 - 0s - loss: 0.0023\n",
      "Epoch 123/150\n",
      "29/29 - 0s - loss: 0.0024\n",
      "Epoch 124/150\n",
      "29/29 - 0s - loss: 0.0024\n",
      "Epoch 125/150\n",
      "29/29 - 0s - loss: 0.0024\n",
      "Epoch 126/150\n",
      "29/29 - 0s - loss: 0.0024\n",
      "Epoch 127/150\n",
      "29/29 - 0s - loss: 0.0024\n",
      "Epoch 128/150\n",
      "29/29 - 0s - loss: 0.0025\n",
      "Epoch 129/150\n",
      "29/29 - 0s - loss: 0.0025\n",
      "Epoch 130/150\n",
      "29/29 - 0s - loss: 0.0024\n",
      "Epoch 131/150\n",
      "29/29 - 0s - loss: 0.0024\n",
      "Epoch 132/150\n",
      "29/29 - 0s - loss: 0.0024\n",
      "Epoch 133/150\n",
      "29/29 - 0s - loss: 0.0023\n",
      "Epoch 134/150\n",
      "29/29 - 0s - loss: 0.0024\n",
      "Epoch 135/150\n",
      "29/29 - 0s - loss: 0.0024\n",
      "Epoch 136/150\n",
      "29/29 - 0s - loss: 0.0024\n",
      "Epoch 137/150\n",
      "29/29 - 0s - loss: 0.0024\n",
      "Epoch 138/150\n",
      "29/29 - 0s - loss: 0.0023\n",
      "Epoch 139/150\n",
      "29/29 - 0s - loss: 0.0024\n",
      "Epoch 140/150\n",
      "29/29 - 0s - loss: 0.0024\n",
      "Epoch 141/150\n",
      "29/29 - 0s - loss: 0.0024\n",
      "Epoch 142/150\n",
      "29/29 - 0s - loss: 0.0024\n",
      "Epoch 143/150\n",
      "29/29 - 0s - loss: 0.0024\n",
      "Epoch 144/150\n",
      "29/29 - 0s - loss: 0.0023\n",
      "Epoch 145/150\n",
      "29/29 - 0s - loss: 0.0024\n",
      "Epoch 146/150\n",
      "29/29 - 0s - loss: 0.0023\n",
      "Epoch 147/150\n",
      "29/29 - 0s - loss: 0.0024\n",
      "Epoch 148/150\n",
      "29/29 - 0s - loss: 0.0024\n",
      "Epoch 149/150\n",
      "29/29 - 0s - loss: 0.0024\n",
      "Epoch 150/150\n",
      "29/29 - 0s - loss: 0.0024\n",
      "Train Score: 24594951.76 RMSE\n",
      "Test Score: 49454874.74 RMSE\n"
     ]
    }
   ],
   "source": [
    "trainPredictInc1, testPredictInc1 = LSTM_model(income, 1)"
   ]
  },
  {
   "cell_type": "code",
   "execution_count": 8,
   "metadata": {},
   "outputs": [
    {
     "name": "stdout",
     "output_type": "stream",
     "text": [
      "Epoch 1/150\n",
      "29/29 - 0s - loss: 0.0379\n",
      "Epoch 2/150\n",
      "29/29 - 0s - loss: 0.0275\n",
      "Epoch 3/150\n",
      "29/29 - 0s - loss: 0.0206\n",
      "Epoch 4/150\n",
      "29/29 - 0s - loss: 0.0158\n",
      "Epoch 5/150\n",
      "29/29 - 0s - loss: 0.0128\n",
      "Epoch 6/150\n",
      "29/29 - 0s - loss: 0.0111\n",
      "Epoch 7/150\n",
      "29/29 - 0s - loss: 0.0103\n",
      "Epoch 8/150\n",
      "29/29 - 0s - loss: 0.0100\n",
      "Epoch 9/150\n",
      "29/29 - 0s - loss: 0.0095\n",
      "Epoch 10/150\n",
      "29/29 - 0s - loss: 0.0095\n",
      "Epoch 11/150\n",
      "29/29 - 0s - loss: 0.0093\n",
      "Epoch 12/150\n",
      "29/29 - 0s - loss: 0.0092\n",
      "Epoch 13/150\n",
      "29/29 - 0s - loss: 0.0092\n",
      "Epoch 14/150\n",
      "29/29 - 0s - loss: 0.0092\n",
      "Epoch 15/150\n",
      "29/29 - 0s - loss: 0.0090\n",
      "Epoch 16/150\n",
      "29/29 - 0s - loss: 0.0090\n",
      "Epoch 17/150\n",
      "29/29 - 0s - loss: 0.0089\n",
      "Epoch 18/150\n",
      "29/29 - 0s - loss: 0.0088\n",
      "Epoch 19/150\n",
      "29/29 - 0s - loss: 0.0088\n",
      "Epoch 20/150\n",
      "29/29 - 0s - loss: 0.0087\n",
      "Epoch 21/150\n",
      "29/29 - 0s - loss: 0.0087\n",
      "Epoch 22/150\n",
      "29/29 - 0s - loss: 0.0085\n",
      "Epoch 23/150\n",
      "29/29 - 0s - loss: 0.0085\n",
      "Epoch 24/150\n",
      "29/29 - 0s - loss: 0.0085\n",
      "Epoch 25/150\n",
      "29/29 - 0s - loss: 0.0084\n",
      "Epoch 26/150\n",
      "29/29 - 0s - loss: 0.0084\n",
      "Epoch 27/150\n",
      "29/29 - 0s - loss: 0.0083\n",
      "Epoch 28/150\n",
      "29/29 - 0s - loss: 0.0082\n",
      "Epoch 29/150\n",
      "29/29 - 0s - loss: 0.0081\n",
      "Epoch 30/150\n",
      "29/29 - 0s - loss: 0.0081\n",
      "Epoch 31/150\n",
      "29/29 - 0s - loss: 0.0080\n",
      "Epoch 32/150\n",
      "29/29 - 0s - loss: 0.0080\n",
      "Epoch 33/150\n",
      "29/29 - 0s - loss: 0.0079\n",
      "Epoch 34/150\n",
      "29/29 - 0s - loss: 0.0079\n",
      "Epoch 35/150\n",
      "29/29 - 0s - loss: 0.0078\n",
      "Epoch 36/150\n",
      "29/29 - 0s - loss: 0.0077\n",
      "Epoch 37/150\n",
      "29/29 - 0s - loss: 0.0076\n",
      "Epoch 38/150\n",
      "29/29 - 0s - loss: 0.0076\n",
      "Epoch 39/150\n",
      "29/29 - 0s - loss: 0.0075\n",
      "Epoch 40/150\n",
      "29/29 - 0s - loss: 0.0074\n",
      "Epoch 41/150\n",
      "29/29 - 0s - loss: 0.0074\n",
      "Epoch 42/150\n",
      "29/29 - 0s - loss: 0.0074\n",
      "Epoch 43/150\n",
      "29/29 - 0s - loss: 0.0073\n",
      "Epoch 44/150\n",
      "29/29 - 0s - loss: 0.0072\n",
      "Epoch 45/150\n",
      "29/29 - 0s - loss: 0.0072\n",
      "Epoch 46/150\n",
      "29/29 - 0s - loss: 0.0072\n",
      "Epoch 47/150\n",
      "29/29 - 0s - loss: 0.0071\n",
      "Epoch 48/150\n",
      "29/29 - 0s - loss: 0.0071\n",
      "Epoch 49/150\n",
      "29/29 - 0s - loss: 0.0073\n",
      "Epoch 50/150\n",
      "29/29 - 0s - loss: 0.0070\n",
      "Epoch 51/150\n",
      "29/29 - 0s - loss: 0.0069\n",
      "Epoch 52/150\n",
      "29/29 - 0s - loss: 0.0069\n",
      "Epoch 53/150\n",
      "29/29 - 0s - loss: 0.0069\n",
      "Epoch 54/150\n",
      "29/29 - 0s - loss: 0.0068\n",
      "Epoch 55/150\n",
      "29/29 - 0s - loss: 0.0067\n",
      "Epoch 56/150\n",
      "29/29 - 0s - loss: 0.0067\n",
      "Epoch 57/150\n",
      "29/29 - 0s - loss: 0.0066\n",
      "Epoch 58/150\n",
      "29/29 - 0s - loss: 0.0066\n",
      "Epoch 59/150\n",
      "29/29 - 0s - loss: 0.0067\n",
      "Epoch 60/150\n",
      "29/29 - 0s - loss: 0.0066\n",
      "Epoch 61/150\n",
      "29/29 - 0s - loss: 0.0065\n",
      "Epoch 62/150\n",
      "29/29 - 0s - loss: 0.0065\n",
      "Epoch 63/150\n",
      "29/29 - 0s - loss: 0.0064\n",
      "Epoch 64/150\n",
      "29/29 - 0s - loss: 0.0064\n",
      "Epoch 65/150\n",
      "29/29 - 0s - loss: 0.0064\n",
      "Epoch 66/150\n",
      "29/29 - 0s - loss: 0.0063\n",
      "Epoch 67/150\n",
      "29/29 - 0s - loss: 0.0063\n",
      "Epoch 68/150\n",
      "29/29 - 0s - loss: 0.0063\n",
      "Epoch 69/150\n",
      "29/29 - 0s - loss: 0.0065\n",
      "Epoch 70/150\n",
      "29/29 - 0s - loss: 0.0062\n",
      "Epoch 71/150\n",
      "29/29 - 0s - loss: 0.0062\n",
      "Epoch 72/150\n",
      "29/29 - 0s - loss: 0.0063\n",
      "Epoch 73/150\n",
      "29/29 - 0s - loss: 0.0063\n",
      "Epoch 74/150\n",
      "29/29 - 0s - loss: 0.0062\n",
      "Epoch 75/150\n",
      "29/29 - 0s - loss: 0.0061\n",
      "Epoch 76/150\n",
      "29/29 - 0s - loss: 0.0061\n",
      "Epoch 77/150\n",
      "29/29 - 0s - loss: 0.0062\n",
      "Epoch 78/150\n",
      "29/29 - 0s - loss: 0.0060\n",
      "Epoch 79/150\n",
      "29/29 - 0s - loss: 0.0061\n",
      "Epoch 80/150\n",
      "29/29 - 0s - loss: 0.0060\n",
      "Epoch 81/150\n",
      "29/29 - 0s - loss: 0.0061\n",
      "Epoch 82/150\n",
      "29/29 - 0s - loss: 0.0060\n",
      "Epoch 83/150\n",
      "29/29 - 0s - loss: 0.0060\n",
      "Epoch 84/150\n",
      "29/29 - 0s - loss: 0.0060\n",
      "Epoch 85/150\n",
      "29/29 - 0s - loss: 0.0060\n",
      "Epoch 86/150\n",
      "29/29 - 0s - loss: 0.0060\n",
      "Epoch 87/150\n",
      "29/29 - 0s - loss: 0.0059\n",
      "Epoch 88/150\n",
      "29/29 - 0s - loss: 0.0061\n",
      "Epoch 89/150\n",
      "29/29 - 0s - loss: 0.0059\n",
      "Epoch 90/150\n",
      "29/29 - 0s - loss: 0.0059\n",
      "Epoch 91/150\n",
      "29/29 - 0s - loss: 0.0059\n",
      "Epoch 92/150\n",
      "29/29 - 0s - loss: 0.0059\n",
      "Epoch 93/150\n",
      "29/29 - 0s - loss: 0.0059\n",
      "Epoch 94/150\n",
      "29/29 - 0s - loss: 0.0059\n",
      "Epoch 95/150\n",
      "29/29 - 0s - loss: 0.0059\n",
      "Epoch 96/150\n",
      "29/29 - 0s - loss: 0.0059\n",
      "Epoch 97/150\n",
      "29/29 - 0s - loss: 0.0059\n",
      "Epoch 98/150\n",
      "29/29 - 0s - loss: 0.0058\n",
      "Epoch 99/150\n",
      "29/29 - 0s - loss: 0.0058\n",
      "Epoch 100/150\n",
      "29/29 - 0s - loss: 0.0058\n",
      "Epoch 101/150\n",
      "29/29 - 0s - loss: 0.0058\n",
      "Epoch 102/150\n",
      "29/29 - 0s - loss: 0.0058\n",
      "Epoch 103/150\n",
      "29/29 - 0s - loss: 0.0058\n",
      "Epoch 104/150\n",
      "29/29 - 0s - loss: 0.0058\n",
      "Epoch 105/150\n",
      "29/29 - 0s - loss: 0.0059\n",
      "Epoch 106/150\n",
      "29/29 - 0s - loss: 0.0059\n",
      "Epoch 107/150\n",
      "29/29 - 0s - loss: 0.0058\n",
      "Epoch 108/150\n",
      "29/29 - 0s - loss: 0.0058\n",
      "Epoch 109/150\n",
      "29/29 - 0s - loss: 0.0060\n",
      "Epoch 110/150\n",
      "29/29 - 0s - loss: 0.0059\n",
      "Epoch 111/150\n",
      "29/29 - 0s - loss: 0.0058\n",
      "Epoch 112/150\n",
      "29/29 - 0s - loss: 0.0057\n",
      "Epoch 113/150\n",
      "29/29 - 0s - loss: 0.0058\n",
      "Epoch 114/150\n",
      "29/29 - 0s - loss: 0.0059\n",
      "Epoch 115/150\n",
      "29/29 - 0s - loss: 0.0058\n",
      "Epoch 116/150\n",
      "29/29 - 0s - loss: 0.0058\n",
      "Epoch 117/150\n",
      "29/29 - 0s - loss: 0.0058\n",
      "Epoch 118/150\n",
      "29/29 - 0s - loss: 0.0059\n",
      "Epoch 119/150\n",
      "29/29 - 0s - loss: 0.0060\n",
      "Epoch 120/150\n",
      "29/29 - 0s - loss: 0.0059\n",
      "Epoch 121/150\n",
      "29/29 - 0s - loss: 0.0059\n",
      "Epoch 122/150\n",
      "29/29 - 0s - loss: 0.0058\n",
      "Epoch 123/150\n",
      "29/29 - 0s - loss: 0.0058\n",
      "Epoch 124/150\n",
      "29/29 - 0s - loss: 0.0057\n",
      "Epoch 125/150\n",
      "29/29 - 0s - loss: 0.0058\n",
      "Epoch 126/150\n",
      "29/29 - 0s - loss: 0.0058\n",
      "Epoch 127/150\n",
      "29/29 - 0s - loss: 0.0058\n",
      "Epoch 128/150\n",
      "29/29 - 0s - loss: 0.0058\n",
      "Epoch 129/150\n",
      "29/29 - 0s - loss: 0.0058\n",
      "Epoch 130/150\n",
      "29/29 - 0s - loss: 0.0058\n",
      "Epoch 131/150\n",
      "29/29 - 0s - loss: 0.0058\n",
      "Epoch 132/150\n",
      "29/29 - 0s - loss: 0.0059\n",
      "Epoch 133/150\n",
      "29/29 - 0s - loss: 0.0058\n",
      "Epoch 134/150\n",
      "29/29 - 0s - loss: 0.0059\n",
      "Epoch 135/150\n",
      "29/29 - 0s - loss: 0.0059\n",
      "Epoch 136/150\n",
      "29/29 - 0s - loss: 0.0058\n",
      "Epoch 137/150\n",
      "29/29 - 0s - loss: 0.0059\n",
      "Epoch 138/150\n",
      "29/29 - 0s - loss: 0.0058\n",
      "Epoch 139/150\n",
      "29/29 - 0s - loss: 0.0058\n",
      "Epoch 140/150\n",
      "29/29 - 0s - loss: 0.0059\n",
      "Epoch 141/150\n",
      "29/29 - 0s - loss: 0.0058\n",
      "Epoch 142/150\n",
      "29/29 - 0s - loss: 0.0058\n",
      "Epoch 143/150\n",
      "29/29 - 0s - loss: 0.0058\n",
      "Epoch 144/150\n",
      "29/29 - 0s - loss: 0.0058\n",
      "Epoch 145/150\n",
      "29/29 - 0s - loss: 0.0057\n",
      "Epoch 146/150\n",
      "29/29 - 0s - loss: 0.0058\n",
      "Epoch 147/150\n",
      "29/29 - 0s - loss: 0.0058\n",
      "Epoch 148/150\n",
      "29/29 - 0s - loss: 0.0057\n",
      "Epoch 149/150\n",
      "29/29 - 0s - loss: 0.0059\n",
      "Epoch 150/150\n",
      "29/29 - 0s - loss: 0.0060\n",
      "Train Score: 19863835.90 RMSE\n",
      "Test Score: 65551854.96 RMSE\n"
     ]
    }
   ],
   "source": [
    "trainPredictPro1, testPredictPro1 = LSTM_model(profit, 1)"
   ]
  },
  {
   "cell_type": "code",
   "execution_count": 9,
   "metadata": {},
   "outputs": [
    {
     "name": "stdout",
     "output_type": "stream",
     "text": [
      "Epoch 1/150\n",
      "26/26 - 0s - loss: 0.0709\n",
      "Epoch 2/150\n",
      "26/26 - 0s - loss: 0.0525\n",
      "Epoch 3/150\n",
      "26/26 - 0s - loss: 0.0397\n",
      "Epoch 4/150\n",
      "26/26 - 0s - loss: 0.0320\n",
      "Epoch 5/150\n",
      "26/26 - 0s - loss: 0.0247\n",
      "Epoch 6/150\n",
      "26/26 - 0s - loss: 0.0206\n",
      "Epoch 7/150\n",
      "26/26 - 0s - loss: 0.0180\n",
      "Epoch 8/150\n",
      "26/26 - 0s - loss: 0.0158\n",
      "Epoch 9/150\n",
      "26/26 - 0s - loss: 0.0145\n",
      "Epoch 10/150\n",
      "26/26 - 0s - loss: 0.0135\n",
      "Epoch 11/150\n",
      "26/26 - 0s - loss: 0.0125\n",
      "Epoch 12/150\n",
      "26/26 - 0s - loss: 0.0119\n",
      "Epoch 13/150\n",
      "26/26 - 0s - loss: 0.0111\n",
      "Epoch 14/150\n",
      "26/26 - 0s - loss: 0.0104\n",
      "Epoch 15/150\n",
      "26/26 - 0s - loss: 0.0099\n",
      "Epoch 16/150\n",
      "26/26 - 0s - loss: 0.0093\n",
      "Epoch 17/150\n",
      "26/26 - 0s - loss: 0.0085\n",
      "Epoch 18/150\n",
      "26/26 - 0s - loss: 0.0079\n",
      "Epoch 19/150\n",
      "26/26 - 0s - loss: 0.0074\n",
      "Epoch 20/150\n",
      "26/26 - 0s - loss: 0.0067\n",
      "Epoch 21/150\n",
      "26/26 - 0s - loss: 0.0063\n",
      "Epoch 22/150\n",
      "26/26 - 0s - loss: 0.0057\n",
      "Epoch 23/150\n",
      "26/26 - 0s - loss: 0.0053\n",
      "Epoch 24/150\n",
      "26/26 - 0s - loss: 0.0048\n",
      "Epoch 25/150\n",
      "26/26 - 0s - loss: 0.0044\n",
      "Epoch 26/150\n",
      "26/26 - 0s - loss: 0.0041\n",
      "Epoch 27/150\n",
      "26/26 - 0s - loss: 0.0038\n",
      "Epoch 28/150\n",
      "26/26 - 0s - loss: 0.0034\n",
      "Epoch 29/150\n",
      "26/26 - 0s - loss: 0.0032\n",
      "Epoch 30/150\n",
      "26/26 - 0s - loss: 0.0029\n",
      "Epoch 31/150\n",
      "26/26 - 0s - loss: 0.0026\n",
      "Epoch 32/150\n",
      "26/26 - 0s - loss: 0.0025\n",
      "Epoch 33/150\n",
      "26/26 - 0s - loss: 0.0023\n",
      "Epoch 34/150\n",
      "26/26 - 0s - loss: 0.0022\n",
      "Epoch 35/150\n",
      "26/26 - 0s - loss: 0.0021\n",
      "Epoch 36/150\n",
      "26/26 - 0s - loss: 0.0019\n",
      "Epoch 37/150\n",
      "26/26 - 0s - loss: 0.0018\n",
      "Epoch 38/150\n",
      "26/26 - 0s - loss: 0.0018\n",
      "Epoch 39/150\n",
      "26/26 - 0s - loss: 0.0017\n",
      "Epoch 40/150\n",
      "26/26 - 0s - loss: 0.0017\n",
      "Epoch 41/150\n",
      "26/26 - 0s - loss: 0.0016\n",
      "Epoch 42/150\n",
      "26/26 - 0s - loss: 0.0016\n",
      "Epoch 43/150\n",
      "26/26 - 0s - loss: 0.0016\n",
      "Epoch 44/150\n",
      "26/26 - 0s - loss: 0.0016\n",
      "Epoch 45/150\n",
      "26/26 - 0s - loss: 0.0016\n",
      "Epoch 46/150\n",
      "26/26 - 0s - loss: 0.0015\n",
      "Epoch 47/150\n",
      "26/26 - 0s - loss: 0.0015\n",
      "Epoch 48/150\n",
      "26/26 - 0s - loss: 0.0015\n",
      "Epoch 49/150\n",
      "26/26 - 0s - loss: 0.0015\n",
      "Epoch 50/150\n",
      "26/26 - 0s - loss: 0.0015\n",
      "Epoch 51/150\n",
      "26/26 - 0s - loss: 0.0015\n",
      "Epoch 52/150\n",
      "26/26 - 0s - loss: 0.0015\n",
      "Epoch 53/150\n",
      "26/26 - 0s - loss: 0.0015\n",
      "Epoch 54/150\n",
      "26/26 - 0s - loss: 0.0015\n",
      "Epoch 55/150\n",
      "26/26 - 0s - loss: 0.0015\n",
      "Epoch 56/150\n",
      "26/26 - 0s - loss: 0.0014\n",
      "Epoch 57/150\n",
      "26/26 - 0s - loss: 0.0014\n",
      "Epoch 58/150\n",
      "26/26 - 0s - loss: 0.0015\n",
      "Epoch 59/150\n",
      "26/26 - 0s - loss: 0.0015\n",
      "Epoch 60/150\n",
      "26/26 - 0s - loss: 0.0014\n",
      "Epoch 61/150\n",
      "26/26 - 0s - loss: 0.0014\n",
      "Epoch 62/150\n",
      "26/26 - 0s - loss: 0.0014\n",
      "Epoch 63/150\n",
      "26/26 - 0s - loss: 0.0015\n",
      "Epoch 64/150\n",
      "26/26 - 0s - loss: 0.0014\n",
      "Epoch 65/150\n",
      "26/26 - 0s - loss: 0.0015\n",
      "Epoch 66/150\n",
      "26/26 - 0s - loss: 0.0014\n",
      "Epoch 67/150\n",
      "26/26 - 0s - loss: 0.0016\n",
      "Epoch 68/150\n",
      "26/26 - 0s - loss: 0.0014\n",
      "Epoch 69/150\n",
      "26/26 - 0s - loss: 0.0014\n",
      "Epoch 70/150\n",
      "26/26 - 0s - loss: 0.0014\n",
      "Epoch 71/150\n",
      "26/26 - 0s - loss: 0.0014\n",
      "Epoch 72/150\n",
      "26/26 - 0s - loss: 0.0014\n",
      "Epoch 73/150\n",
      "26/26 - 0s - loss: 0.0014\n",
      "Epoch 74/150\n",
      "26/26 - 0s - loss: 0.0014\n",
      "Epoch 75/150\n",
      "26/26 - 0s - loss: 0.0014\n",
      "Epoch 76/150\n",
      "26/26 - 0s - loss: 0.0015\n",
      "Epoch 77/150\n",
      "26/26 - 0s - loss: 0.0014\n",
      "Epoch 78/150\n",
      "26/26 - 0s - loss: 0.0014\n",
      "Epoch 79/150\n",
      "26/26 - 0s - loss: 0.0014\n",
      "Epoch 80/150\n",
      "26/26 - 0s - loss: 0.0014\n",
      "Epoch 81/150\n",
      "26/26 - 0s - loss: 0.0014\n",
      "Epoch 82/150\n",
      "26/26 - 0s - loss: 0.0014\n",
      "Epoch 83/150\n",
      "26/26 - 0s - loss: 0.0014\n",
      "Epoch 84/150\n",
      "26/26 - 0s - loss: 0.0014\n",
      "Epoch 85/150\n",
      "26/26 - 0s - loss: 0.0014\n",
      "Epoch 86/150\n",
      "26/26 - 0s - loss: 0.0014\n",
      "Epoch 87/150\n",
      "26/26 - 0s - loss: 0.0015\n",
      "Epoch 88/150\n",
      "26/26 - 0s - loss: 0.0014\n",
      "Epoch 89/150\n",
      "26/26 - 0s - loss: 0.0014\n",
      "Epoch 90/150\n",
      "26/26 - 0s - loss: 0.0014\n",
      "Epoch 91/150\n",
      "26/26 - 0s - loss: 0.0014\n",
      "Epoch 92/150\n",
      "26/26 - 0s - loss: 0.0014\n",
      "Epoch 93/150\n",
      "26/26 - 0s - loss: 0.0014\n",
      "Epoch 94/150\n",
      "26/26 - 0s - loss: 0.0014\n",
      "Epoch 95/150\n",
      "26/26 - 0s - loss: 0.0014\n",
      "Epoch 96/150\n",
      "26/26 - 0s - loss: 0.0015\n",
      "Epoch 97/150\n",
      "26/26 - 0s - loss: 0.0014\n",
      "Epoch 98/150\n",
      "26/26 - 0s - loss: 0.0014\n",
      "Epoch 99/150\n",
      "26/26 - 0s - loss: 0.0014\n",
      "Epoch 100/150\n",
      "26/26 - 0s - loss: 0.0014\n",
      "Epoch 101/150\n",
      "26/26 - 0s - loss: 0.0014\n",
      "Epoch 102/150\n",
      "26/26 - 0s - loss: 0.0014\n",
      "Epoch 103/150\n",
      "26/26 - 0s - loss: 0.0014\n",
      "Epoch 104/150\n",
      "26/26 - 0s - loss: 0.0015\n",
      "Epoch 105/150\n",
      "26/26 - 0s - loss: 0.0014\n",
      "Epoch 106/150\n",
      "26/26 - 0s - loss: 0.0014\n",
      "Epoch 107/150\n",
      "26/26 - 0s - loss: 0.0014\n",
      "Epoch 108/150\n",
      "26/26 - 0s - loss: 0.0014\n",
      "Epoch 109/150\n",
      "26/26 - 0s - loss: 0.0014\n",
      "Epoch 110/150\n",
      "26/26 - 0s - loss: 0.0014\n",
      "Epoch 111/150\n",
      "26/26 - 0s - loss: 0.0014\n",
      "Epoch 112/150\n",
      "26/26 - 0s - loss: 0.0014\n",
      "Epoch 113/150\n",
      "26/26 - 0s - loss: 0.0014\n",
      "Epoch 114/150\n",
      "26/26 - 0s - loss: 0.0014\n",
      "Epoch 115/150\n",
      "26/26 - 0s - loss: 0.0014\n",
      "Epoch 116/150\n",
      "26/26 - 0s - loss: 0.0014\n",
      "Epoch 117/150\n",
      "26/26 - 0s - loss: 0.0014\n",
      "Epoch 118/150\n",
      "26/26 - 0s - loss: 0.0014\n",
      "Epoch 119/150\n",
      "26/26 - 0s - loss: 0.0014\n",
      "Epoch 120/150\n",
      "26/26 - 0s - loss: 0.0015\n",
      "Epoch 121/150\n",
      "26/26 - 0s - loss: 0.0014\n",
      "Epoch 122/150\n",
      "26/26 - 0s - loss: 0.0013\n",
      "Epoch 123/150\n",
      "26/26 - 0s - loss: 0.0014\n",
      "Epoch 124/150\n",
      "26/26 - 0s - loss: 0.0014\n",
      "Epoch 125/150\n",
      "26/26 - 0s - loss: 0.0014\n",
      "Epoch 126/150\n",
      "26/26 - 0s - loss: 0.0014\n",
      "Epoch 127/150\n",
      "26/26 - 0s - loss: 0.0014\n",
      "Epoch 128/150\n",
      "26/26 - 0s - loss: 0.0013\n",
      "Epoch 129/150\n",
      "26/26 - 0s - loss: 0.0014\n",
      "Epoch 130/150\n",
      "26/26 - 0s - loss: 0.0013\n",
      "Epoch 131/150\n",
      "26/26 - 0s - loss: 0.0014\n",
      "Epoch 132/150\n",
      "26/26 - 0s - loss: 0.0014\n",
      "Epoch 133/150\n",
      "26/26 - 0s - loss: 0.0013\n",
      "Epoch 134/150\n",
      "26/26 - 0s - loss: 0.0014\n",
      "Epoch 135/150\n",
      "26/26 - 0s - loss: 0.0014\n",
      "Epoch 136/150\n",
      "26/26 - 0s - loss: 0.0013\n",
      "Epoch 137/150\n",
      "26/26 - 0s - loss: 0.0014\n",
      "Epoch 138/150\n",
      "26/26 - 0s - loss: 0.0014\n",
      "Epoch 139/150\n",
      "26/26 - 0s - loss: 0.0014\n",
      "Epoch 140/150\n",
      "26/26 - 0s - loss: 0.0014\n",
      "Epoch 141/150\n",
      "26/26 - 0s - loss: 0.0014\n",
      "Epoch 142/150\n",
      "26/26 - 0s - loss: 0.0013\n",
      "Epoch 143/150\n",
      "26/26 - 0s - loss: 0.0014\n",
      "Epoch 144/150\n",
      "26/26 - 0s - loss: 0.0013\n",
      "Epoch 145/150\n",
      "26/26 - 0s - loss: 0.0014\n",
      "Epoch 146/150\n",
      "26/26 - 0s - loss: 0.0013\n",
      "Epoch 147/150\n",
      "26/26 - 0s - loss: 0.0014\n",
      "Epoch 148/150\n",
      "26/26 - 0s - loss: 0.0013\n",
      "Epoch 149/150\n",
      "26/26 - 0s - loss: 0.0013\n",
      "Epoch 150/150\n",
      "26/26 - 0s - loss: 0.0013\n",
      "Train Score: 18575572.71 RMSE\n",
      "Test Score: 92963373.44 RMSE\n"
     ]
    }
   ],
   "source": [
    "trainPredictInc4, testPredictInc4 = LSTM_model(income, 4)"
   ]
  },
  {
   "cell_type": "code",
   "execution_count": 10,
   "metadata": {},
   "outputs": [
    {
     "name": "stdout",
     "output_type": "stream",
     "text": [
      "Epoch 1/150\n",
      "26/26 - 0s - loss: 0.0505\n",
      "Epoch 2/150\n",
      "26/26 - 0s - loss: 0.0332\n",
      "Epoch 3/150\n",
      "26/26 - 0s - loss: 0.0217\n",
      "Epoch 4/150\n",
      "26/26 - 0s - loss: 0.0152\n",
      "Epoch 5/150\n",
      "26/26 - 0s - loss: 0.0116\n",
      "Epoch 6/150\n",
      "26/26 - 0s - loss: 0.0098\n",
      "Epoch 7/150\n",
      "26/26 - 0s - loss: 0.0089\n",
      "Epoch 8/150\n",
      "26/26 - 0s - loss: 0.0084\n",
      "Epoch 9/150\n",
      "26/26 - 0s - loss: 0.0082\n",
      "Epoch 10/150\n",
      "26/26 - 0s - loss: 0.0079\n",
      "Epoch 11/150\n",
      "26/26 - 0s - loss: 0.0078\n",
      "Epoch 12/150\n",
      "26/26 - 0s - loss: 0.0076\n",
      "Epoch 13/150\n",
      "26/26 - 0s - loss: 0.0074\n",
      "Epoch 14/150\n",
      "26/26 - 0s - loss: 0.0072\n",
      "Epoch 15/150\n",
      "26/26 - 0s - loss: 0.0070\n",
      "Epoch 16/150\n",
      "26/26 - 0s - loss: 0.0069\n",
      "Epoch 17/150\n",
      "26/26 - 0s - loss: 0.0067\n",
      "Epoch 18/150\n",
      "26/26 - 0s - loss: 0.0065\n",
      "Epoch 19/150\n",
      "26/26 - 0s - loss: 0.0066\n",
      "Epoch 20/150\n",
      "26/26 - 0s - loss: 0.0062\n",
      "Epoch 21/150\n",
      "26/26 - 0s - loss: 0.0062\n",
      "Epoch 22/150\n",
      "26/26 - 0s - loss: 0.0061\n",
      "Epoch 23/150\n",
      "26/26 - 0s - loss: 0.0057\n",
      "Epoch 24/150\n",
      "26/26 - 0s - loss: 0.0056\n",
      "Epoch 25/150\n",
      "26/26 - 0s - loss: 0.0056\n",
      "Epoch 26/150\n",
      "26/26 - 0s - loss: 0.0054\n",
      "Epoch 27/150\n",
      "26/26 - 0s - loss: 0.0053\n",
      "Epoch 28/150\n",
      "26/26 - 0s - loss: 0.0052\n",
      "Epoch 29/150\n",
      "26/26 - 0s - loss: 0.0050\n",
      "Epoch 30/150\n",
      "26/26 - 0s - loss: 0.0049\n",
      "Epoch 31/150\n",
      "26/26 - 0s - loss: 0.0048\n",
      "Epoch 32/150\n",
      "26/26 - 0s - loss: 0.0047\n",
      "Epoch 33/150\n",
      "26/26 - 0s - loss: 0.0048\n",
      "Epoch 34/150\n",
      "26/26 - 0s - loss: 0.0045\n",
      "Epoch 35/150\n",
      "26/26 - 0s - loss: 0.0045\n",
      "Epoch 36/150\n",
      "26/26 - 0s - loss: 0.0044\n",
      "Epoch 37/150\n",
      "26/26 - 0s - loss: 0.0043\n",
      "Epoch 38/150\n",
      "26/26 - 0s - loss: 0.0043\n",
      "Epoch 39/150\n",
      "26/26 - 0s - loss: 0.0042\n",
      "Epoch 40/150\n",
      "26/26 - 0s - loss: 0.0042\n",
      "Epoch 41/150\n",
      "26/26 - 0s - loss: 0.0041\n",
      "Epoch 42/150\n",
      "26/26 - 0s - loss: 0.0042\n",
      "Epoch 43/150\n",
      "26/26 - 0s - loss: 0.0040\n",
      "Epoch 44/150\n",
      "26/26 - 0s - loss: 0.0040\n",
      "Epoch 45/150\n",
      "26/26 - 0s - loss: 0.0040\n",
      "Epoch 46/150\n",
      "26/26 - 0s - loss: 0.0039\n",
      "Epoch 47/150\n",
      "26/26 - 0s - loss: 0.0039\n",
      "Epoch 48/150\n",
      "26/26 - 0s - loss: 0.0038\n",
      "Epoch 49/150\n",
      "26/26 - 0s - loss: 0.0038\n",
      "Epoch 50/150\n",
      "26/26 - 0s - loss: 0.0038\n",
      "Epoch 51/150\n",
      "26/26 - 0s - loss: 0.0037\n",
      "Epoch 52/150\n",
      "26/26 - 0s - loss: 0.0037\n",
      "Epoch 53/150\n",
      "26/26 - 0s - loss: 0.0038\n",
      "Epoch 54/150\n",
      "26/26 - 0s - loss: 0.0036\n",
      "Epoch 55/150\n",
      "26/26 - 0s - loss: 0.0036\n",
      "Epoch 56/150\n",
      "26/26 - 0s - loss: 0.0036\n",
      "Epoch 57/150\n",
      "26/26 - 0s - loss: 0.0037\n",
      "Epoch 58/150\n",
      "26/26 - 0s - loss: 0.0036\n",
      "Epoch 59/150\n",
      "26/26 - 0s - loss: 0.0036\n",
      "Epoch 60/150\n",
      "26/26 - 0s - loss: 0.0037\n",
      "Epoch 61/150\n",
      "26/26 - 0s - loss: 0.0036\n",
      "Epoch 62/150\n",
      "26/26 - 0s - loss: 0.0036\n",
      "Epoch 63/150\n",
      "26/26 - 0s - loss: 0.0036\n",
      "Epoch 64/150\n",
      "26/26 - 0s - loss: 0.0035\n",
      "Epoch 65/150\n",
      "26/26 - 0s - loss: 0.0035\n",
      "Epoch 66/150\n",
      "26/26 - 0s - loss: 0.0035\n",
      "Epoch 67/150\n",
      "26/26 - 0s - loss: 0.0036\n",
      "Epoch 68/150\n",
      "26/26 - 0s - loss: 0.0036\n",
      "Epoch 69/150\n",
      "26/26 - 0s - loss: 0.0035\n",
      "Epoch 70/150\n",
      "26/26 - 0s - loss: 0.0035\n",
      "Epoch 71/150\n",
      "26/26 - 0s - loss: 0.0036\n",
      "Epoch 72/150\n",
      "26/26 - 0s - loss: 0.0035\n",
      "Epoch 73/150\n",
      "26/26 - 0s - loss: 0.0034\n",
      "Epoch 74/150\n",
      "26/26 - 0s - loss: 0.0034\n",
      "Epoch 75/150\n",
      "26/26 - 0s - loss: 0.0035\n",
      "Epoch 76/150\n",
      "26/26 - 0s - loss: 0.0036\n",
      "Epoch 77/150\n",
      "26/26 - 0s - loss: 0.0035\n",
      "Epoch 78/150\n",
      "26/26 - 0s - loss: 0.0035\n",
      "Epoch 79/150\n",
      "26/26 - 0s - loss: 0.0035\n",
      "Epoch 80/150\n",
      "26/26 - 0s - loss: 0.0034\n",
      "Epoch 81/150\n",
      "26/26 - 0s - loss: 0.0034\n",
      "Epoch 82/150\n",
      "26/26 - 0s - loss: 0.0034\n",
      "Epoch 83/150\n",
      "26/26 - 0s - loss: 0.0034\n",
      "Epoch 84/150\n",
      "26/26 - 0s - loss: 0.0035\n",
      "Epoch 85/150\n",
      "26/26 - 0s - loss: 0.0035\n",
      "Epoch 86/150\n",
      "26/26 - 0s - loss: 0.0034\n",
      "Epoch 87/150\n",
      "26/26 - 0s - loss: 0.0035\n",
      "Epoch 88/150\n",
      "26/26 - 0s - loss: 0.0035\n",
      "Epoch 89/150\n",
      "26/26 - 0s - loss: 0.0035\n",
      "Epoch 90/150\n",
      "26/26 - 0s - loss: 0.0035\n",
      "Epoch 91/150\n",
      "26/26 - 0s - loss: 0.0034\n",
      "Epoch 92/150\n",
      "26/26 - 0s - loss: 0.0034\n",
      "Epoch 93/150\n",
      "26/26 - 0s - loss: 0.0035\n",
      "Epoch 94/150\n",
      "26/26 - 0s - loss: 0.0034\n",
      "Epoch 95/150\n",
      "26/26 - 0s - loss: 0.0034\n",
      "Epoch 96/150\n",
      "26/26 - 0s - loss: 0.0034\n",
      "Epoch 97/150\n",
      "26/26 - 0s - loss: 0.0034\n",
      "Epoch 98/150\n",
      "26/26 - 0s - loss: 0.0034\n",
      "Epoch 99/150\n",
      "26/26 - 0s - loss: 0.0034\n",
      "Epoch 100/150\n",
      "26/26 - 0s - loss: 0.0034\n",
      "Epoch 101/150\n",
      "26/26 - 0s - loss: 0.0034\n",
      "Epoch 102/150\n",
      "26/26 - 0s - loss: 0.0034\n",
      "Epoch 103/150\n",
      "26/26 - 0s - loss: 0.0034\n",
      "Epoch 104/150\n",
      "26/26 - 0s - loss: 0.0034\n",
      "Epoch 105/150\n",
      "26/26 - 0s - loss: 0.0034\n",
      "Epoch 106/150\n",
      "26/26 - 0s - loss: 0.0034\n",
      "Epoch 107/150\n",
      "26/26 - 0s - loss: 0.0034\n",
      "Epoch 108/150\n",
      "26/26 - 0s - loss: 0.0034\n",
      "Epoch 109/150\n",
      "26/26 - 0s - loss: 0.0034\n",
      "Epoch 110/150\n",
      "26/26 - 0s - loss: 0.0033\n",
      "Epoch 111/150\n",
      "26/26 - 0s - loss: 0.0034\n",
      "Epoch 112/150\n",
      "26/26 - 0s - loss: 0.0034\n",
      "Epoch 113/150\n",
      "26/26 - 0s - loss: 0.0034\n",
      "Epoch 114/150\n",
      "26/26 - 0s - loss: 0.0034\n",
      "Epoch 115/150\n",
      "26/26 - 0s - loss: 0.0034\n",
      "Epoch 116/150\n",
      "26/26 - 0s - loss: 0.0034\n",
      "Epoch 117/150\n",
      "26/26 - 0s - loss: 0.0035\n",
      "Epoch 118/150\n",
      "26/26 - 0s - loss: 0.0033\n",
      "Epoch 119/150\n",
      "26/26 - 0s - loss: 0.0033\n",
      "Epoch 120/150\n",
      "26/26 - 0s - loss: 0.0033\n",
      "Epoch 121/150\n",
      "26/26 - 0s - loss: 0.0033\n",
      "Epoch 122/150\n",
      "26/26 - 0s - loss: 0.0034\n",
      "Epoch 123/150\n",
      "26/26 - 0s - loss: 0.0034\n",
      "Epoch 124/150\n",
      "26/26 - 0s - loss: 0.0033\n",
      "Epoch 125/150\n",
      "26/26 - 0s - loss: 0.0034\n",
      "Epoch 126/150\n",
      "26/26 - 0s - loss: 0.0034\n",
      "Epoch 127/150\n",
      "26/26 - 0s - loss: 0.0034\n",
      "Epoch 128/150\n",
      "26/26 - 0s - loss: 0.0034\n",
      "Epoch 129/150\n",
      "26/26 - 0s - loss: 0.0034\n",
      "Epoch 130/150\n",
      "26/26 - 0s - loss: 0.0033\n",
      "Epoch 131/150\n",
      "26/26 - 0s - loss: 0.0033\n",
      "Epoch 132/150\n",
      "26/26 - 0s - loss: 0.0033\n",
      "Epoch 133/150\n",
      "26/26 - 0s - loss: 0.0033\n",
      "Epoch 134/150\n",
      "26/26 - 0s - loss: 0.0034\n",
      "Epoch 135/150\n",
      "26/26 - 0s - loss: 0.0034\n",
      "Epoch 136/150\n",
      "26/26 - 0s - loss: 0.0033\n",
      "Epoch 137/150\n",
      "26/26 - 0s - loss: 0.0033\n",
      "Epoch 138/150\n",
      "26/26 - 0s - loss: 0.0035\n",
      "Epoch 139/150\n",
      "26/26 - 0s - loss: 0.0033\n",
      "Epoch 140/150\n",
      "26/26 - 0s - loss: 0.0033\n",
      "Epoch 141/150\n",
      "26/26 - 0s - loss: 0.0033\n",
      "Epoch 142/150\n",
      "26/26 - 0s - loss: 0.0034\n",
      "Epoch 143/150\n",
      "26/26 - 0s - loss: 0.0032\n",
      "Epoch 144/150\n",
      "26/26 - 0s - loss: 0.0033\n",
      "Epoch 145/150\n",
      "26/26 - 0s - loss: 0.0033\n",
      "Epoch 146/150\n",
      "26/26 - 0s - loss: 0.0033\n",
      "Epoch 147/150\n",
      "26/26 - 0s - loss: 0.0033\n",
      "Epoch 148/150\n",
      "26/26 - 0s - loss: 0.0033\n",
      "Epoch 149/150\n",
      "26/26 - 0s - loss: 0.0033\n",
      "Epoch 150/150\n",
      "26/26 - 0s - loss: 0.0033\n",
      "Train Score: 14885059.18 RMSE\n",
      "Test Score: 68674484.87 RMSE\n"
     ]
    }
   ],
   "source": [
    "trainPredictPro4, testPredictPro4 = LSTM_model(profit, 4)"
   ]
  },
  {
   "cell_type": "code",
   "execution_count": 11,
   "metadata": {},
   "outputs": [
    {
     "data": {
      "image/png": "[encoded data removed]",
      "text/plain": [
       "<Figure size 432x288 with 1 Axes>"
      ]
     },
     "metadata": {
      "needs_background": "light"
     },
     "output_type": "display_data"
    },
    {
     "data": {
      "image/png": "[encoded data removed]",
      "text/plain": [
       "<Figure size 432x288 with 1 Axes>"
      ]
     },
     "metadata": {
      "needs_background": "light"
     },
     "output_type": "display_data"
    },
    {
     "data": {
      "image/png": "[encoded data removed]",
      "text/plain": [
       "<Figure size 432x288 with 1 Axes>"
      ]
     },
     "metadata": {
      "needs_background": "light"
     },
     "output_type": "display_data"
    },
    {
     "data": {
      "image/png": "[encoded data removed]",
      "text/plain": [
       "<Figure size 432x288 with 1 Axes>"
      ]
     },
     "metadata": {
      "needs_background": "light"
     },
     "output_type": "display_data"
    }
   ],
   "source": [
    "plot_predict(income, trainPredictInc1, testPredictInc1, 1)\n",
    "plot_predict(profit, trainPredictPro1, testPredictPro1, 1)\n",
    "plot_predict(income, trainPredictInc4, testPredictInc4, 4)\n",
    "plot_predict(profit, trainPredictPro4, testPredictPro4, 4)"
   ]
  },
  {
   "cell_type": "code",
   "execution_count": null,
   "metadata": {},
   "outputs": [],
   "source": []
  }
 ],
 "metadata": {
  "kernelspec": {
   "display_name": "Python 3",
   "language": "python",
   "name": "python3"
  },
  "language_info": {
   "codemirror_mode": {
    "name": "ipython",
    "version": 3
   },
   "file_extension": ".py",
   "mimetype": "text/x-python",
   "name": "python",
   "nbconvert_exporter": "python",
   "pygments_lexer": "ipython3",
   "version": "3.7.9"
  }
 },
 "nbformat": 4,
 "nbformat_minor": 2
}
